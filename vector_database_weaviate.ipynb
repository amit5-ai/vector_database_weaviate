{
  "nbformat": 4,
  "nbformat_minor": 0,
  "metadata": {
    "colab": {
      "provenance": [],
      "authorship_tag": "ABX9TyO4Y4YPfv7CS06axH2MHoob"
    },
    "kernelspec": {
      "name": "python3",
      "display_name": "Python 3"
    },
    "language_info": {
      "name": "python"
    }
  },
  "cells": [
    {
      "cell_type": "code",
      "source": [
        "! pip install sentence_transformers\n",
        "import pandas as pd\n",
        "import numpy as np"
      ],
      "metadata": {
        "id": "FD2cJm53UAOZ"
      },
      "execution_count": null,
      "outputs": []
    },
    {
      "cell_type": "code",
      "execution_count": null,
      "metadata": {
        "id": "RkLxt0NsT4ew"
      },
      "outputs": [],
      "source": [
        "from sentence_transformers import SentenceTransformer\n",
        "model = SentenceTransformer('paraphrase-MiniLM-L6-v2')"
      ]
    },
    {
      "cell_type": "code",
      "source": [
        "#Sentences we want to encode. Example:\n",
        "sentence = ['The team enjoyed the hike through the meadow',\n",
        "            'The national park had great views',\n",
        "            'Olive oil drizzled over pizza tastes delicious']"
      ],
      "metadata": {
        "id": "1Q-fwjFcT8W4"
      },
      "execution_count": 3,
      "outputs": []
    },
    {
      "cell_type": "code",
      "source": [
        "#Sentences are encoded by calling model.encode()\n",
        "embedding = model.encode(sentence)\n",
        "\n",
        "#Preview the embeddings\n",
        "print(embedding)"
      ],
      "metadata": {
        "colab": {
          "base_uri": "https://localhost:8080/"
        },
        "id": "aD-vVrY_USaZ",
        "outputId": "8f68d1e6-a7ea-48ea-b00d-1f089002efc2"
      },
      "execution_count": 4,
      "outputs": [
        {
          "output_type": "stream",
          "name": "stdout",
          "text": [
            "[[ 0.37061968  0.26414266  0.21265659 ...  0.14994559 -0.25794914\n",
            "  -0.23970744]\n",
            " [ 0.6693328   0.40094966 -0.48208374 ...  0.10645917 -1.506716\n",
            "  -0.01547341]\n",
            " [-0.26555893  0.11172437 -0.14733039 ...  0.4219748   0.883946\n",
            "   0.10763916]]\n"
          ]
        }
      ]
    },
    {
      "cell_type": "code",
      "source": [
        "embedding.shape"
      ],
      "metadata": {
        "colab": {
          "base_uri": "https://localhost:8080/"
        },
        "id": "wacQJhgqUTzA",
        "outputId": "b2b88ba0-79a3-416c-e9bb-3a92e0efb1ba"
      },
      "execution_count": 5,
      "outputs": [
        {
          "output_type": "execute_result",
          "data": {
            "text/plain": [
              "(3, 384)"
            ]
          },
          "metadata": {},
          "execution_count": 5
        }
      ]
    },
    {
      "cell_type": "code",
      "source": [
        "# Cosine Distance function\n",
        "def cosine_distance(vec1,vec2):\n",
        "  cosine = 1 - (np.dot(vec1, vec2)/(np.linalg.norm(vec1)*np.linalg.norm(vec2)))\n",
        "  return cosine\n",
        "\n",
        "# Similar vectors will have SMALLER angle between them"
      ],
      "metadata": {
        "id": "mp-SgBM7UmSL"
      },
      "execution_count": 6,
      "outputs": []
    },
    {
      "cell_type": "code",
      "source": [
        "#Cosine Distance\n",
        "\n",
        "# embedding0 - 'The team enjoyed the hike through the meadow'\n",
        "# embedding1 - The national park had great views'\n",
        "# embedding2 - 'Olive oil drizzled over pizza tastes delicious'\n",
        "\n",
        "print(\"Distance 0-1: \", cosine_distance(embedding[0], embedding[1])) # Least angle\n",
        "print(\"Distance 0-2: \", cosine_distance(embedding[0], embedding[2]))\n",
        "print(\"Distance 1-2: \", cosine_distance(embedding[1], embedding[2]))"
      ],
      "metadata": {
        "colab": {
          "base_uri": "https://localhost:8080/"
        },
        "id": "DNyF-ZStVJ_F",
        "outputId": "dfd28876-e312-4faa-88fc-91b01b381dca"
      },
      "execution_count": 7,
      "outputs": [
        {
          "output_type": "stream",
          "name": "stdout",
          "text": [
            "Distance 0-1:  0.5350335240364075\n",
            "Distance 0-2:  0.9639393426477909\n",
            "Distance 1-2:  0.9288790747523308\n"
          ]
        }
      ]
    },
    {
      "cell_type": "code",
      "source": [
        "# ! pip install \"weaviate-client==3.*\"\n",
        "! pip install -U weaviate-client"
      ],
      "metadata": {
        "id": "m5EL5HCPU5oe"
      },
      "execution_count": null,
      "outputs": []
    },
    {
      "cell_type": "code",
      "source": [
        "f = open(\"/content/sample_data/WCS_CLUSTER_URL.txt\", \"r\")\n",
        "WCS_CLUSTER_URL = f.read()\n",
        "# print(WCS_CLUSTER_URL)\n",
        "\n",
        "f = open(\"/content/sample_data/WCS_DEMO_RO_KEY.txt\", \"r\")\n",
        "WCS_DEMO_RO_KEY = f.read()\n",
        "# print(WCS_DEMO_RO_KEY)\n",
        "\n",
        "f = open(\"/content/sample_data/OPENAI_API_KEY.txt\", \"r\")\n",
        "openai_api_key = f.read()\n",
        "# print(openai_api_key)"
      ],
      "metadata": {
        "id": "NJIVUxREWcEF"
      },
      "execution_count": 9,
      "outputs": []
    },
    {
      "cell_type": "code",
      "source": [
        "import weaviate\n",
        "import weaviate.classes as wvc\n",
        "import pandas as pd\n",
        "import json"
      ],
      "metadata": {
        "id": "vYnAWJaGiJBC"
      },
      "execution_count": 10,
      "outputs": []
    },
    {
      "cell_type": "code",
      "source": [
        "client = weaviate.connect_to_wcs(\n",
        "    cluster_url= WCS_CLUSTER_URL, # \"https://some-endpoint.weaviate.network/\",  # Replace with your endpoint\n",
        "    auth_credentials =  weaviate.auth.AuthApiKey(api_key=WCS_DEMO_RO_KEY),  # Replace w/ your Weaviate instance API key\n",
        "    headers = {\n",
        "        \"X-OpenAI-Api-Key\": openai_api_key  # Replace with your inference API key\n",
        "    }\n",
        ")\n",
        "\n",
        "print(client.is_ready())"
      ],
      "metadata": {
        "colab": {
          "base_uri": "https://localhost:8080/"
        },
        "id": "QDD7oHL0VhTh",
        "outputId": "afbe4f2b-239b-4b74-ef44-038b420f4fef"
      },
      "execution_count": 11,
      "outputs": [
        {
          "output_type": "stream",
          "name": "stdout",
          "text": [
            "True\n"
          ]
        }
      ]
    },
    {
      "cell_type": "code",
      "source": [
        "# client.collections.delete(\"Clause\")"
      ],
      "metadata": {
        "id": "XHgp6xPAjet7"
      },
      "execution_count": null,
      "outputs": []
    },
    {
      "cell_type": "code",
      "source": [
        "# # Create collection - 1st time only\n",
        "\n",
        "# clauses = client.collections.create(\n",
        "#         name=\"Clause\",\n",
        "#         vectorizer_config=wvc.config.Configure.Vectorizer.text2vec_openai(),  # If set to \"none\" you must always provide vectors yourself. Could be any other \"text2vec-*\" also.\n",
        "#         generative_config=wvc.config.Configure.Generative.openai()  # Ensure the `generative-openai` module is used for generative queries\n",
        "#     )"
      ],
      "metadata": {
        "id": "rF-p_lPJqXFr"
      },
      "execution_count": null,
      "outputs": []
    },
    {
      "cell_type": "code",
      "source": [
        "train_data = pd.read_csv('/content/sample_data/all_short_clauses_train.csv') ## .head(5)"
      ],
      "metadata": {
        "id": "PXa__JQ_ZZRM"
      },
      "execution_count": null,
      "outputs": []
    },
    {
      "cell_type": "code",
      "source": [
        "train_data.head()"
      ],
      "metadata": {
        "colab": {
          "base_uri": "https://localhost:8080/",
          "height": 206
        },
        "id": "9hMg0sjfennR",
        "outputId": "8fbdbe27-ecd3-4962-91c9-48dded09d0f3"
      },
      "execution_count": null,
      "outputs": [
        {
          "output_type": "execute_result",
          "data": {
            "text/plain": [
              "                                              clause category\n",
              "0  This Release may be amended, only upon a writt...  Waivers\n",
              "1  Neither the Borrower nor Pangaea maintains any...    Erisa\n",
              "2  The Employee Retirement Income Act of 1974, as...    Erisa\n",
              "3  [ . No Obligor or Subsidiary has any Multiempl...    Erisa\n",
              "4  Seller shall violate the representations and w...    Erisa"
            ],
            "text/html": [
              "\n",
              "  <div id=\"df-0403c410-014c-48c3-b2f0-4185295221db\" class=\"colab-df-container\">\n",
              "    <div>\n",
              "<style scoped>\n",
              "    .dataframe tbody tr th:only-of-type {\n",
              "        vertical-align: middle;\n",
              "    }\n",
              "\n",
              "    .dataframe tbody tr th {\n",
              "        vertical-align: top;\n",
              "    }\n",
              "\n",
              "    .dataframe thead th {\n",
              "        text-align: right;\n",
              "    }\n",
              "</style>\n",
              "<table border=\"1\" class=\"dataframe\">\n",
              "  <thead>\n",
              "    <tr style=\"text-align: right;\">\n",
              "      <th></th>\n",
              "      <th>clause</th>\n",
              "      <th>category</th>\n",
              "    </tr>\n",
              "  </thead>\n",
              "  <tbody>\n",
              "    <tr>\n",
              "      <th>0</th>\n",
              "      <td>This Release may be amended, only upon a writt...</td>\n",
              "      <td>Waivers</td>\n",
              "    </tr>\n",
              "    <tr>\n",
              "      <th>1</th>\n",
              "      <td>Neither the Borrower nor Pangaea maintains any...</td>\n",
              "      <td>Erisa</td>\n",
              "    </tr>\n",
              "    <tr>\n",
              "      <th>2</th>\n",
              "      <td>The Employee Retirement Income Act of 1974, as...</td>\n",
              "      <td>Erisa</td>\n",
              "    </tr>\n",
              "    <tr>\n",
              "      <th>3</th>\n",
              "      <td>[ . No Obligor or Subsidiary has any Multiempl...</td>\n",
              "      <td>Erisa</td>\n",
              "    </tr>\n",
              "    <tr>\n",
              "      <th>4</th>\n",
              "      <td>Seller shall violate the representations and w...</td>\n",
              "      <td>Erisa</td>\n",
              "    </tr>\n",
              "  </tbody>\n",
              "</table>\n",
              "</div>\n",
              "    <div class=\"colab-df-buttons\">\n",
              "\n",
              "  <div class=\"colab-df-container\">\n",
              "    <button class=\"colab-df-convert\" onclick=\"convertToInteractive('df-0403c410-014c-48c3-b2f0-4185295221db')\"\n",
              "            title=\"Convert this dataframe to an interactive table.\"\n",
              "            style=\"display:none;\">\n",
              "\n",
              "  <svg xmlns=\"http://www.w3.org/2000/svg\" height=\"24px\" viewBox=\"0 -960 960 960\">\n",
              "    <path d=\"M120-120v-720h720v720H120Zm60-500h600v-160H180v160Zm220 220h160v-160H400v160Zm0 220h160v-160H400v160ZM180-400h160v-160H180v160Zm440 0h160v-160H620v160ZM180-180h160v-160H180v160Zm440 0h160v-160H620v160Z\"/>\n",
              "  </svg>\n",
              "    </button>\n",
              "\n",
              "  <style>\n",
              "    .colab-df-container {\n",
              "      display:flex;\n",
              "      gap: 12px;\n",
              "    }\n",
              "\n",
              "    .colab-df-convert {\n",
              "      background-color: #E8F0FE;\n",
              "      border: none;\n",
              "      border-radius: 50%;\n",
              "      cursor: pointer;\n",
              "      display: none;\n",
              "      fill: #1967D2;\n",
              "      height: 32px;\n",
              "      padding: 0 0 0 0;\n",
              "      width: 32px;\n",
              "    }\n",
              "\n",
              "    .colab-df-convert:hover {\n",
              "      background-color: #E2EBFA;\n",
              "      box-shadow: 0px 1px 2px rgba(60, 64, 67, 0.3), 0px 1px 3px 1px rgba(60, 64, 67, 0.15);\n",
              "      fill: #174EA6;\n",
              "    }\n",
              "\n",
              "    .colab-df-buttons div {\n",
              "      margin-bottom: 4px;\n",
              "    }\n",
              "\n",
              "    [theme=dark] .colab-df-convert {\n",
              "      background-color: #3B4455;\n",
              "      fill: #D2E3FC;\n",
              "    }\n",
              "\n",
              "    [theme=dark] .colab-df-convert:hover {\n",
              "      background-color: #434B5C;\n",
              "      box-shadow: 0px 1px 3px 1px rgba(0, 0, 0, 0.15);\n",
              "      filter: drop-shadow(0px 1px 2px rgba(0, 0, 0, 0.3));\n",
              "      fill: #FFFFFF;\n",
              "    }\n",
              "  </style>\n",
              "\n",
              "    <script>\n",
              "      const buttonEl =\n",
              "        document.querySelector('#df-0403c410-014c-48c3-b2f0-4185295221db button.colab-df-convert');\n",
              "      buttonEl.style.display =\n",
              "        google.colab.kernel.accessAllowed ? 'block' : 'none';\n",
              "\n",
              "      async function convertToInteractive(key) {\n",
              "        const element = document.querySelector('#df-0403c410-014c-48c3-b2f0-4185295221db');\n",
              "        const dataTable =\n",
              "          await google.colab.kernel.invokeFunction('convertToInteractive',\n",
              "                                                    [key], {});\n",
              "        if (!dataTable) return;\n",
              "\n",
              "        const docLinkHtml = 'Like what you see? Visit the ' +\n",
              "          '<a target=\"_blank\" href=https://colab.research.google.com/notebooks/data_table.ipynb>data table notebook</a>'\n",
              "          + ' to learn more about interactive tables.';\n",
              "        element.innerHTML = '';\n",
              "        dataTable['output_type'] = 'display_data';\n",
              "        await google.colab.output.renderOutput(dataTable, element);\n",
              "        const docLink = document.createElement('div');\n",
              "        docLink.innerHTML = docLinkHtml;\n",
              "        element.appendChild(docLink);\n",
              "      }\n",
              "    </script>\n",
              "  </div>\n",
              "\n",
              "\n",
              "<div id=\"df-2bfe0363-66d6-4d77-b5dc-c981f77c4f83\">\n",
              "  <button class=\"colab-df-quickchart\" onclick=\"quickchart('df-2bfe0363-66d6-4d77-b5dc-c981f77c4f83')\"\n",
              "            title=\"Suggest charts\"\n",
              "            style=\"display:none;\">\n",
              "\n",
              "<svg xmlns=\"http://www.w3.org/2000/svg\" height=\"24px\"viewBox=\"0 0 24 24\"\n",
              "     width=\"24px\">\n",
              "    <g>\n",
              "        <path d=\"M19 3H5c-1.1 0-2 .9-2 2v14c0 1.1.9 2 2 2h14c1.1 0 2-.9 2-2V5c0-1.1-.9-2-2-2zM9 17H7v-7h2v7zm4 0h-2V7h2v10zm4 0h-2v-4h2v4z\"/>\n",
              "    </g>\n",
              "</svg>\n",
              "  </button>\n",
              "\n",
              "<style>\n",
              "  .colab-df-quickchart {\n",
              "      --bg-color: #E8F0FE;\n",
              "      --fill-color: #1967D2;\n",
              "      --hover-bg-color: #E2EBFA;\n",
              "      --hover-fill-color: #174EA6;\n",
              "      --disabled-fill-color: #AAA;\n",
              "      --disabled-bg-color: #DDD;\n",
              "  }\n",
              "\n",
              "  [theme=dark] .colab-df-quickchart {\n",
              "      --bg-color: #3B4455;\n",
              "      --fill-color: #D2E3FC;\n",
              "      --hover-bg-color: #434B5C;\n",
              "      --hover-fill-color: #FFFFFF;\n",
              "      --disabled-bg-color: #3B4455;\n",
              "      --disabled-fill-color: #666;\n",
              "  }\n",
              "\n",
              "  .colab-df-quickchart {\n",
              "    background-color: var(--bg-color);\n",
              "    border: none;\n",
              "    border-radius: 50%;\n",
              "    cursor: pointer;\n",
              "    display: none;\n",
              "    fill: var(--fill-color);\n",
              "    height: 32px;\n",
              "    padding: 0;\n",
              "    width: 32px;\n",
              "  }\n",
              "\n",
              "  .colab-df-quickchart:hover {\n",
              "    background-color: var(--hover-bg-color);\n",
              "    box-shadow: 0 1px 2px rgba(60, 64, 67, 0.3), 0 1px 3px 1px rgba(60, 64, 67, 0.15);\n",
              "    fill: var(--button-hover-fill-color);\n",
              "  }\n",
              "\n",
              "  .colab-df-quickchart-complete:disabled,\n",
              "  .colab-df-quickchart-complete:disabled:hover {\n",
              "    background-color: var(--disabled-bg-color);\n",
              "    fill: var(--disabled-fill-color);\n",
              "    box-shadow: none;\n",
              "  }\n",
              "\n",
              "  .colab-df-spinner {\n",
              "    border: 2px solid var(--fill-color);\n",
              "    border-color: transparent;\n",
              "    border-bottom-color: var(--fill-color);\n",
              "    animation:\n",
              "      spin 1s steps(1) infinite;\n",
              "  }\n",
              "\n",
              "  @keyframes spin {\n",
              "    0% {\n",
              "      border-color: transparent;\n",
              "      border-bottom-color: var(--fill-color);\n",
              "      border-left-color: var(--fill-color);\n",
              "    }\n",
              "    20% {\n",
              "      border-color: transparent;\n",
              "      border-left-color: var(--fill-color);\n",
              "      border-top-color: var(--fill-color);\n",
              "    }\n",
              "    30% {\n",
              "      border-color: transparent;\n",
              "      border-left-color: var(--fill-color);\n",
              "      border-top-color: var(--fill-color);\n",
              "      border-right-color: var(--fill-color);\n",
              "    }\n",
              "    40% {\n",
              "      border-color: transparent;\n",
              "      border-right-color: var(--fill-color);\n",
              "      border-top-color: var(--fill-color);\n",
              "    }\n",
              "    60% {\n",
              "      border-color: transparent;\n",
              "      border-right-color: var(--fill-color);\n",
              "    }\n",
              "    80% {\n",
              "      border-color: transparent;\n",
              "      border-right-color: var(--fill-color);\n",
              "      border-bottom-color: var(--fill-color);\n",
              "    }\n",
              "    90% {\n",
              "      border-color: transparent;\n",
              "      border-bottom-color: var(--fill-color);\n",
              "    }\n",
              "  }\n",
              "</style>\n",
              "\n",
              "  <script>\n",
              "    async function quickchart(key) {\n",
              "      const quickchartButtonEl =\n",
              "        document.querySelector('#' + key + ' button');\n",
              "      quickchartButtonEl.disabled = true;  // To prevent multiple clicks.\n",
              "      quickchartButtonEl.classList.add('colab-df-spinner');\n",
              "      try {\n",
              "        const charts = await google.colab.kernel.invokeFunction(\n",
              "            'suggestCharts', [key], {});\n",
              "      } catch (error) {\n",
              "        console.error('Error during call to suggestCharts:', error);\n",
              "      }\n",
              "      quickchartButtonEl.classList.remove('colab-df-spinner');\n",
              "      quickchartButtonEl.classList.add('colab-df-quickchart-complete');\n",
              "    }\n",
              "    (() => {\n",
              "      let quickchartButtonEl =\n",
              "        document.querySelector('#df-2bfe0363-66d6-4d77-b5dc-c981f77c4f83 button');\n",
              "      quickchartButtonEl.style.display =\n",
              "        google.colab.kernel.accessAllowed ? 'block' : 'none';\n",
              "    })();\n",
              "  </script>\n",
              "</div>\n",
              "\n",
              "    </div>\n",
              "  </div>\n"
            ],
            "application/vnd.google.colaboratory.intrinsic+json": {
              "type": "dataframe",
              "variable_name": "train_data",
              "summary": "{\n  \"name\": \"train_data\",\n  \"rows\": 339,\n  \"fields\": [\n    {\n      \"column\": \"clause\",\n      \"properties\": {\n        \"dtype\": \"string\",\n        \"num_unique_values\": 339,\n        \"samples\": [\n          \"This Fifth Amended and Restated Credit Agreement, including the Schedules and Exhibits hereto.\",\n          \"All amounts payable under this Agreement will be subject to withholdings as required by law.\",\n          \"GP represents and warrants to the Company as set forth below.\"\n        ],\n        \"semantic_type\": \"\",\n        \"description\": \"\"\n      }\n    },\n    {\n      \"column\": \"category\",\n      \"properties\": {\n        \"dtype\": \"category\",\n        \"num_unique_values\": 85,\n        \"samples\": [\n          \"Effectiveness\",\n          \"Waivers\",\n          \"Liens\"\n        ],\n        \"semantic_type\": \"\",\n        \"description\": \"\"\n      }\n    }\n  ]\n}"
            }
          },
          "metadata": {},
          "execution_count": 23
        }
      ]
    },
    {
      "cell_type": "code",
      "source": [
        "train_data.shape"
      ],
      "metadata": {
        "colab": {
          "base_uri": "https://localhost:8080/"
        },
        "id": "3YagTFmQoLl-",
        "outputId": "78bde2ee-f4f7-42b2-e1db-fc8afe2c7e28"
      },
      "execution_count": null,
      "outputs": [
        {
          "output_type": "execute_result",
          "data": {
            "text/plain": [
              "(339, 2)"
            ]
          },
          "metadata": {},
          "execution_count": 24
        }
      ]
    },
    {
      "cell_type": "code",
      "source": [
        "## Insert into Create collection - 1st time only\n",
        "# clause_objs = list()\n",
        "# for i, row in train_data.iterrows():\n",
        "#   print(i,\"th clause inserted\")\n",
        "#   clause_objs.append({\n",
        "#       \"clause\": row[\"clause\"],\n",
        "#       \"category\": row[\"category\"],\n",
        "#   })\n",
        "\n",
        "# clauses = client.collections.get(\"Clause\")\n",
        "# clauses.data.insert_many(clause_objs)  # This uses batching under the hood"
      ],
      "metadata": {
        "colab": {
          "base_uri": "https://localhost:8080/"
        },
        "id": "_N0PHJElZEMT",
        "outputId": "d33fc487-689b-46ad-e7f8-7727796c18a8"
      },
      "execution_count": null,
      "outputs": [
        {
          "output_type": "stream",
          "name": "stdout",
          "text": [
            "0 th clause inserted\n",
            "1 th clause inserted\n",
            "2 th clause inserted\n",
            "3 th clause inserted\n",
            "4 th clause inserted\n",
            "5 th clause inserted\n",
            "6 th clause inserted\n",
            "7 th clause inserted\n",
            "8 th clause inserted\n",
            "9 th clause inserted\n",
            "10 th clause inserted\n",
            "11 th clause inserted\n",
            "12 th clause inserted\n",
            "13 th clause inserted\n",
            "14 th clause inserted\n",
            "15 th clause inserted\n",
            "16 th clause inserted\n",
            "17 th clause inserted\n",
            "18 th clause inserted\n",
            "19 th clause inserted\n",
            "20 th clause inserted\n",
            "21 th clause inserted\n",
            "22 th clause inserted\n",
            "23 th clause inserted\n",
            "24 th clause inserted\n",
            "25 th clause inserted\n",
            "26 th clause inserted\n",
            "27 th clause inserted\n",
            "28 th clause inserted\n",
            "29 th clause inserted\n",
            "30 th clause inserted\n",
            "31 th clause inserted\n",
            "32 th clause inserted\n",
            "33 th clause inserted\n",
            "34 th clause inserted\n",
            "35 th clause inserted\n",
            "36 th clause inserted\n",
            "37 th clause inserted\n",
            "38 th clause inserted\n",
            "39 th clause inserted\n",
            "40 th clause inserted\n",
            "41 th clause inserted\n",
            "42 th clause inserted\n",
            "43 th clause inserted\n",
            "44 th clause inserted\n",
            "45 th clause inserted\n",
            "46 th clause inserted\n",
            "47 th clause inserted\n",
            "48 th clause inserted\n",
            "49 th clause inserted\n",
            "50 th clause inserted\n",
            "51 th clause inserted\n",
            "52 th clause inserted\n",
            "53 th clause inserted\n",
            "54 th clause inserted\n",
            "55 th clause inserted\n",
            "56 th clause inserted\n",
            "57 th clause inserted\n",
            "58 th clause inserted\n",
            "59 th clause inserted\n",
            "60 th clause inserted\n",
            "61 th clause inserted\n",
            "62 th clause inserted\n",
            "63 th clause inserted\n",
            "64 th clause inserted\n",
            "65 th clause inserted\n",
            "66 th clause inserted\n",
            "67 th clause inserted\n",
            "68 th clause inserted\n",
            "69 th clause inserted\n",
            "70 th clause inserted\n",
            "71 th clause inserted\n",
            "72 th clause inserted\n",
            "73 th clause inserted\n",
            "74 th clause inserted\n",
            "75 th clause inserted\n",
            "76 th clause inserted\n",
            "77 th clause inserted\n",
            "78 th clause inserted\n",
            "79 th clause inserted\n",
            "80 th clause inserted\n",
            "81 th clause inserted\n",
            "82 th clause inserted\n",
            "83 th clause inserted\n",
            "84 th clause inserted\n",
            "85 th clause inserted\n",
            "86 th clause inserted\n",
            "87 th clause inserted\n",
            "88 th clause inserted\n",
            "89 th clause inserted\n",
            "90 th clause inserted\n",
            "91 th clause inserted\n",
            "92 th clause inserted\n",
            "93 th clause inserted\n",
            "94 th clause inserted\n",
            "95 th clause inserted\n",
            "96 th clause inserted\n",
            "97 th clause inserted\n",
            "98 th clause inserted\n",
            "99 th clause inserted\n",
            "100 th clause inserted\n",
            "101 th clause inserted\n",
            "102 th clause inserted\n",
            "103 th clause inserted\n",
            "104 th clause inserted\n",
            "105 th clause inserted\n",
            "106 th clause inserted\n",
            "107 th clause inserted\n",
            "108 th clause inserted\n",
            "109 th clause inserted\n",
            "110 th clause inserted\n",
            "111 th clause inserted\n",
            "112 th clause inserted\n",
            "113 th clause inserted\n",
            "114 th clause inserted\n",
            "115 th clause inserted\n",
            "116 th clause inserted\n",
            "117 th clause inserted\n",
            "118 th clause inserted\n",
            "119 th clause inserted\n",
            "120 th clause inserted\n",
            "121 th clause inserted\n",
            "122 th clause inserted\n",
            "123 th clause inserted\n",
            "124 th clause inserted\n",
            "125 th clause inserted\n",
            "126 th clause inserted\n",
            "127 th clause inserted\n",
            "128 th clause inserted\n",
            "129 th clause inserted\n",
            "130 th clause inserted\n",
            "131 th clause inserted\n",
            "132 th clause inserted\n",
            "133 th clause inserted\n",
            "134 th clause inserted\n",
            "135 th clause inserted\n",
            "136 th clause inserted\n",
            "137 th clause inserted\n",
            "138 th clause inserted\n",
            "139 th clause inserted\n",
            "140 th clause inserted\n",
            "141 th clause inserted\n",
            "142 th clause inserted\n",
            "143 th clause inserted\n",
            "144 th clause inserted\n",
            "145 th clause inserted\n",
            "146 th clause inserted\n",
            "147 th clause inserted\n",
            "148 th clause inserted\n",
            "149 th clause inserted\n",
            "150 th clause inserted\n",
            "151 th clause inserted\n",
            "152 th clause inserted\n",
            "153 th clause inserted\n",
            "154 th clause inserted\n",
            "155 th clause inserted\n",
            "156 th clause inserted\n",
            "157 th clause inserted\n",
            "158 th clause inserted\n",
            "159 th clause inserted\n",
            "160 th clause inserted\n",
            "161 th clause inserted\n",
            "162 th clause inserted\n",
            "163 th clause inserted\n",
            "164 th clause inserted\n",
            "165 th clause inserted\n",
            "166 th clause inserted\n",
            "167 th clause inserted\n",
            "168 th clause inserted\n",
            "169 th clause inserted\n",
            "170 th clause inserted\n",
            "171 th clause inserted\n",
            "172 th clause inserted\n",
            "173 th clause inserted\n",
            "174 th clause inserted\n",
            "175 th clause inserted\n",
            "176 th clause inserted\n",
            "177 th clause inserted\n",
            "178 th clause inserted\n",
            "179 th clause inserted\n",
            "180 th clause inserted\n",
            "181 th clause inserted\n",
            "182 th clause inserted\n",
            "183 th clause inserted\n",
            "184 th clause inserted\n",
            "185 th clause inserted\n",
            "186 th clause inserted\n",
            "187 th clause inserted\n",
            "188 th clause inserted\n",
            "189 th clause inserted\n",
            "190 th clause inserted\n",
            "191 th clause inserted\n",
            "192 th clause inserted\n",
            "193 th clause inserted\n",
            "194 th clause inserted\n",
            "195 th clause inserted\n",
            "196 th clause inserted\n",
            "197 th clause inserted\n",
            "198 th clause inserted\n",
            "199 th clause inserted\n",
            "200 th clause inserted\n",
            "201 th clause inserted\n",
            "202 th clause inserted\n",
            "203 th clause inserted\n",
            "204 th clause inserted\n",
            "205 th clause inserted\n",
            "206 th clause inserted\n",
            "207 th clause inserted\n",
            "208 th clause inserted\n",
            "209 th clause inserted\n",
            "210 th clause inserted\n",
            "211 th clause inserted\n",
            "212 th clause inserted\n",
            "213 th clause inserted\n",
            "214 th clause inserted\n",
            "215 th clause inserted\n",
            "216 th clause inserted\n",
            "217 th clause inserted\n",
            "218 th clause inserted\n",
            "219 th clause inserted\n",
            "220 th clause inserted\n",
            "221 th clause inserted\n",
            "222 th clause inserted\n",
            "223 th clause inserted\n",
            "224 th clause inserted\n",
            "225 th clause inserted\n",
            "226 th clause inserted\n",
            "227 th clause inserted\n",
            "228 th clause inserted\n",
            "229 th clause inserted\n",
            "230 th clause inserted\n",
            "231 th clause inserted\n",
            "232 th clause inserted\n",
            "233 th clause inserted\n",
            "234 th clause inserted\n",
            "235 th clause inserted\n",
            "236 th clause inserted\n",
            "237 th clause inserted\n",
            "238 th clause inserted\n",
            "239 th clause inserted\n",
            "240 th clause inserted\n",
            "241 th clause inserted\n",
            "242 th clause inserted\n",
            "243 th clause inserted\n",
            "244 th clause inserted\n",
            "245 th clause inserted\n",
            "246 th clause inserted\n",
            "247 th clause inserted\n",
            "248 th clause inserted\n",
            "249 th clause inserted\n",
            "250 th clause inserted\n",
            "251 th clause inserted\n",
            "252 th clause inserted\n",
            "253 th clause inserted\n",
            "254 th clause inserted\n",
            "255 th clause inserted\n",
            "256 th clause inserted\n",
            "257 th clause inserted\n",
            "258 th clause inserted\n",
            "259 th clause inserted\n",
            "260 th clause inserted\n",
            "261 th clause inserted\n",
            "262 th clause inserted\n",
            "263 th clause inserted\n",
            "264 th clause inserted\n",
            "265 th clause inserted\n",
            "266 th clause inserted\n",
            "267 th clause inserted\n",
            "268 th clause inserted\n",
            "269 th clause inserted\n",
            "270 th clause inserted\n",
            "271 th clause inserted\n",
            "272 th clause inserted\n",
            "273 th clause inserted\n",
            "274 th clause inserted\n",
            "275 th clause inserted\n",
            "276 th clause inserted\n",
            "277 th clause inserted\n",
            "278 th clause inserted\n",
            "279 th clause inserted\n",
            "280 th clause inserted\n",
            "281 th clause inserted\n",
            "282 th clause inserted\n",
            "283 th clause inserted\n",
            "284 th clause inserted\n",
            "285 th clause inserted\n",
            "286 th clause inserted\n",
            "287 th clause inserted\n",
            "288 th clause inserted\n",
            "289 th clause inserted\n",
            "290 th clause inserted\n",
            "291 th clause inserted\n",
            "292 th clause inserted\n",
            "293 th clause inserted\n",
            "294 th clause inserted\n",
            "295 th clause inserted\n",
            "296 th clause inserted\n",
            "297 th clause inserted\n",
            "298 th clause inserted\n",
            "299 th clause inserted\n",
            "300 th clause inserted\n",
            "301 th clause inserted\n",
            "302 th clause inserted\n",
            "303 th clause inserted\n",
            "304 th clause inserted\n",
            "305 th clause inserted\n",
            "306 th clause inserted\n",
            "307 th clause inserted\n",
            "308 th clause inserted\n",
            "309 th clause inserted\n",
            "310 th clause inserted\n",
            "311 th clause inserted\n",
            "312 th clause inserted\n",
            "313 th clause inserted\n",
            "314 th clause inserted\n",
            "315 th clause inserted\n",
            "316 th clause inserted\n",
            "317 th clause inserted\n",
            "318 th clause inserted\n",
            "319 th clause inserted\n",
            "320 th clause inserted\n",
            "321 th clause inserted\n",
            "322 th clause inserted\n",
            "323 th clause inserted\n",
            "324 th clause inserted\n",
            "325 th clause inserted\n",
            "326 th clause inserted\n",
            "327 th clause inserted\n",
            "328 th clause inserted\n",
            "329 th clause inserted\n",
            "330 th clause inserted\n",
            "331 th clause inserted\n",
            "332 th clause inserted\n",
            "333 th clause inserted\n",
            "334 th clause inserted\n",
            "335 th clause inserted\n",
            "336 th clause inserted\n",
            "337 th clause inserted\n",
            "338 th clause inserted\n"
          ]
        },
        {
          "output_type": "execute_result",
          "data": {
            "text/plain": [
              "BatchObjectReturn(all_responses=[UUID('10b2e957-7449-49a5-910e-68c3e5e6497a'), UUID('a3991d4b-caa0-4b96-bfae-a0d8caf931f6'), UUID('e20958b2-43d9-40e7-a5b7-32827f682be8'), UUID('0ae79348-1fe6-4841-91c8-54369d4a4c06'), UUID('83b16613-14e5-4385-b0cb-67f3960cb4a5'), UUID('baec563e-10dc-4e74-acfb-d6ade9aac05e'), UUID('c04a37e6-d57b-4f7d-a219-4d114a455020'), UUID('626253fd-999a-4e51-a30e-fa942d427ad9'), UUID('8971e35c-0024-44e4-9a6e-140aa026d1ed'), UUID('454141be-e68f-4397-b5af-c81d2df4b6b1'), UUID('ad477820-d8d3-40d7-aaea-066a60accd75'), UUID('95400e65-35a1-43a4-99d5-51e2b75db7ee'), UUID('6dea55fa-f35e-451e-bf48-cfab011a0eca'), UUID('225ffc01-931b-4374-896d-c8298f6dd5cf'), UUID('89669deb-1764-462e-92b6-02aabe95e849'), UUID('724f560b-ac49-4bb6-8775-67afd97bd776'), UUID('afcf2e3b-711f-4012-9c73-80fe85297e20'), UUID('ffe06d4d-e9bb-45d9-80da-1fcb9330a317'), UUID('e99fbbb0-2b15-4ecd-b212-6519c6357ef6'), UUID('feb97b55-28c6-4523-a991-d41c2bb90fac'), UUID('65be47ac-9ac7-4e99-a209-eae86456eca8'), UUID('d06da293-26dc-4bf6-835c-ca2efcc64f15'), UUID('47aaa6f7-8da3-4e94-9d7a-9bb46d2d3f65'), UUID('ad5ca486-a822-4dc5-8749-175b9b1cb94b'), UUID('8e894180-de83-4d04-bc78-18c0a9427157'), UUID('ddba3333-a734-4ad2-936b-8efef2facef8'), UUID('c519527e-5e9c-45da-9acb-51bfc83a97e4'), UUID('0e000892-a4a7-45b1-84af-07a3f79bf52d'), UUID('b6cb8a5b-37e9-450f-bf8c-9159119b20f3'), UUID('8c67f433-98d3-4209-884e-238096c7b262'), UUID('af4d30d3-828c-4bec-bd10-a202e9d0d9d0'), UUID('4eeb5b1f-9c46-411f-9d5f-26393824cc4f'), UUID('43ae3929-c8e1-4dab-9dd9-f802d8cbc1a3'), UUID('9add70e9-7515-466a-b9e8-62989e2ed946'), UUID('c492f234-3ba5-441d-99f1-7f592db54816'), UUID('51e3fdc0-4a35-427c-9607-fd24078fa9a3'), UUID('b23e1cfb-b70c-4766-bfae-69d7c31cd611'), UUID('24f46286-4d5c-4cff-8f89-033b9bce82d7'), UUID('6337dfb5-6c10-44ae-9f0a-ec57bc9b4808'), UUID('76fc352f-3cc5-4419-a5d6-4da85152518a'), UUID('09e5bb95-9f8a-47d8-b3bc-f57e8ccadc1a'), UUID('bf947212-ce18-4b19-afee-3c2b5cc688aa'), UUID('2d78af6f-1e6c-4284-9da4-8dce8858c89b'), UUID('b0b600dc-5222-4d84-b853-9932cd6ff3b3'), UUID('bc32117e-75ee-4d9b-8a1a-256d886c47d3'), UUID('83df5734-aeb7-4238-9199-51f0a2b57d32'), UUID('cc1e2beb-bb0a-438f-9720-581be30136e5'), UUID('3cf0d735-9b5e-4a75-b573-669ebdf9d8a6'), UUID('a4983c81-1d2d-4866-994d-4082a372181c'), UUID('5cdcee71-e841-43e5-9aba-1bfe96206888'), UUID('50eb182a-8759-4507-9865-2936888ab0fa'), UUID('82dcd46e-6acd-4fcc-9dbe-10608762a6d8'), UUID('cc8eb95e-c169-42ef-8a67-080fefcb7f0d'), UUID('66820339-002b-4a78-95aa-ccb2f9740596'), UUID('3df662da-553d-42b7-9cc8-f31a3c307bae'), UUID('b5486bdb-baea-4afb-8040-4f7f012c50ce'), UUID('2ab7c65f-3e46-4327-ad4a-2f2b8efd1257'), UUID('430a8df4-2b84-40f2-a671-4f0b17329f91'), UUID('049df64d-422f-4888-a247-10cb186099d0'), UUID('adb7a830-7319-4b74-b7cd-2de379efc25c'), UUID('0a385f01-b901-438f-ac4e-21aa79ad353b'), UUID('6d7037a2-466b-4fff-bdaa-812bc24885eb'), UUID('ed3e57f4-152c-4986-bcc7-4bd36a5386ab'), UUID('0d8e795f-e44e-45aa-b886-468dda30f230'), UUID('cb214ebb-2907-4d4b-9e63-6873e5297611'), UUID('a1fc8c47-f9a0-464b-8333-bb1fc3c2cd5c'), UUID('da97d7fe-8bc8-4fe8-9ffc-07c85c374de5'), UUID('156838f4-39b8-47c9-ada6-50c7a2d62b41'), UUID('2f1c8e90-66c1-44c3-9681-42d62551e360'), UUID('02215ca7-026b-4885-a124-12ceaaa0a160'), UUID('f88e1581-d4cb-4e72-ad47-270783bd1a7e'), UUID('31d7e912-5b65-4bda-b0be-cbb69b9a9ef2'), UUID('d00a6625-918f-40b9-ad00-7d3712686a29'), UUID('13a56969-07a9-4a3a-b415-4b744b9a6672'), UUID('d5f0e9bc-15d5-4748-a742-50e6e14762dd'), UUID('c4e4ff6c-02dd-48ea-a478-72cb92a825ad'), UUID('c71940ab-a414-4e96-af0a-957657e1e59b'), UUID('9514f5af-9652-44ca-b8fe-7c9801367012'), UUID('fb64a4a3-adfb-4488-a78b-9ed5204ea52a'), UUID('e606d66d-08b5-4953-96db-5a2768f5dc1c'), UUID('009f44a8-32a4-400b-8d28-35227c39f79a'), UUID('f436932e-664a-413b-81bb-6798f9e5dc8b'), UUID('8d586d98-a2b7-4141-89fd-e8733b3d6041'), UUID('bed3cca9-5991-409e-83ab-b825471fa4d5'), UUID('e4614ef9-c554-4db2-b7f1-c82d82abc861'), UUID('0f7237e0-ce13-4569-b2fe-b93cb81309c9'), UUID('3047c4a6-d67c-4348-b063-68a40ca48c3f'), UUID('aaef25cd-59d6-481f-9c23-0e940c903f8b'), UUID('39d1d559-f4d7-447a-a629-22d573be2b60'), UUID('b7fe3e9a-c502-40b5-a0fe-41bbe1c09d5f'), UUID('7a3b2694-f586-40df-8b14-541d27c8d6e5'), UUID('d9f32217-9ef6-4af2-a00a-fd5721bfbef9'), UUID('3283337c-f593-47cd-9908-5a45b565c777'), UUID('64cc7d9c-172f-425a-a632-ea2457d8c52a'), UUID('305bb4e3-1ffe-4738-bac1-e7248183ef78'), UUID('ba76cdf3-2901-4918-a19e-3bd70eb84681'), UUID('5b690c1d-5071-4e6e-8eec-9edb17427200'), UUID('b0624fec-0fa4-4eff-8781-8b8d3079582a'), UUID('2d5b0859-6f89-4631-b15f-c7e9b90e1388'), UUID('0310ebce-c8b2-41e6-b1dc-1db8ea7525a0'), UUID('b90ecf92-4b96-4c8c-a194-afd03368a803'), UUID('b3e51bbc-fa20-4b37-9c3f-c33d84ddadce'), UUID('f12c6c02-ad5c-4ef5-a92a-1f2c8da346cd'), UUID('28490ba9-ecb7-4b81-a95c-e20d199e98fe'), UUID('07df2bcd-1642-4160-8aa4-ecd7c87d4256'), UUID('b05c5991-36e0-4793-a124-224442741475'), UUID('7942d28c-29a8-4ee2-933e-c738acf31c4d'), UUID('27386b37-6eb8-40e2-80fb-1e9056b6517e'), UUID('a4f8ea0d-8bc5-4aa3-a222-f522479446d8'), UUID('758641fd-cb5a-4562-aaa2-c27788e03a62'), UUID('6b65627f-8550-449c-bb58-b10312feccb9'), UUID('e814c50a-5a20-4afc-ad06-5b81b36ffebb'), UUID('849910e7-d2f4-449e-ab18-07e59580ce53'), UUID('b59142c1-90f0-43ae-9fe4-15fb2708ac20'), UUID('cc971fa9-3d9d-4b88-bb45-6ccd8b5b7c4b'), UUID('94b74e36-6934-4fc4-a0ed-ec1a84b05bce'), UUID('e05bb6bb-412a-4d3d-bf3e-9282d552aaf8'), UUID('712cde82-a7a6-45c5-992c-5dad00d417ba'), UUID('c9073ff1-da76-4f19-a461-783a4a84ab0d'), UUID('0573af8e-3eed-4f03-97ed-9ee66976d0b6'), UUID('d36ab3b1-f82e-46ab-bf01-647fd4857afe'), UUID('3b5c2db3-74fa-465a-a8be-b523a1316dd3'), UUID('f651cd93-5d68-4875-9ff6-9fc7b4840c73'), UUID('58b1c24b-8d04-4244-a688-7ae4a05ae6af'), UUID('e05cf6cc-62c3-4a49-b3dc-09824938bc17'), UUID('e6b4e09b-9959-4eb7-9971-37a38292b277'), UUID('83b6b754-0857-4ff6-a6b5-7b42a9079c5f'), UUID('be9f4c6e-e9d3-4f55-8409-c16317cde32b'), UUID('d2edc3c8-02de-40b8-be0f-73cb40119129'), UUID('f46f90d9-2ddd-4022-98ae-4900bf85eb69'), UUID('d865b6b5-4674-4d35-bdd0-250df923846a'), UUID('db8df21a-4b1f-4ec4-9aab-eb609010d3ca'), UUID('8dc0c8c6-2234-4fae-91aa-8faf91a39841'), UUID('70d1f6c9-aac5-4be6-906a-08de7360f369'), UUID('6ba28f79-04e7-4fc1-8c94-24802fab98c2'), UUID('2fca9e36-33c4-40fc-bc8d-494755a93207'), UUID('36f2ef97-1dfa-405e-a4fe-a576b6af12ef'), UUID('e64e431d-123f-465e-ab8f-42c0e85d3f11'), UUID('d85f8f59-b0ac-49b7-b3ad-35d55ea80800'), UUID('9b8059f4-6200-4c3f-96c5-35be6e5c5344'), UUID('55f25811-f17b-4262-9543-c95101be07d4'), UUID('d44f9011-c560-420b-b72f-095c755b5b23'), UUID('5f66ad92-fb1d-4d8d-b0d7-20000e743c75'), UUID('30af0b34-d0ed-41a2-b419-379e326269c6'), UUID('51b441ca-4645-4a47-bfa4-e525a62cce8b'), UUID('92c71113-6ad9-4938-990f-30ecd69318cf'), UUID('413404c6-7f95-46ce-afcc-43198e675622'), UUID('486a0bd2-318a-461f-80b5-16446c89740b'), UUID('e6a56c91-cb5e-4152-940c-a73f8d883989'), UUID('e9843247-ccef-4db8-b985-3a73b79d4af3'), UUID('c8ff0cd2-331a-4b16-8fd8-b83c0d15291c'), UUID('52cf5d63-78eb-419d-818c-12969c2fa7d5'), UUID('d0326ed8-5648-4d1b-a7b0-2ac1c0c7844a'), UUID('255aadc4-31fb-4555-b811-26842032d6c3'), UUID('9effee3e-0827-4968-8863-3d43eea801e6'), UUID('be42dbfb-dcba-4d35-84f4-d5c331fc9ee0'), UUID('6941ecb9-212b-4708-8417-99ec18dc1234'), UUID('a1bc5d4c-df02-4695-9d97-30693b11a874'), UUID('a5625240-d064-4312-944f-c5d0cb63c023'), UUID('a60a0a01-6a60-4912-9887-44134ab107ef'), UUID('8cd4a4b6-3cc8-45b8-8e20-66be3a1fe8e3'), UUID('4b39fa72-82e6-4781-85f0-5c020d633839'), UUID('3edbd82d-0d33-464e-8480-bc4e2a0ee149'), UUID('8bf6ec87-853f-422d-b79b-aae105f4bf71'), UUID('50b6d7f0-f7cc-4dd5-97b1-d661459390ee'), UUID('8c1af115-c335-486b-b901-bb4d406251a1'), UUID('a7201a64-9262-4efa-895b-ce4bb3770b11'), UUID('462bb748-21f0-4102-bb61-49d05b38a74f'), UUID('a603016f-16ec-418e-bf27-ff6c94ca3ab6'), UUID('4447e92c-9608-4ced-bc00-762413e83826'), UUID('df2bd4f3-1232-44b5-95e8-4ad0d405be35'), UUID('838d3545-7fbd-41d0-aa85-9980fe95d394'), UUID('edaa342c-4aca-46d5-b47a-0054f51c8e88'), UUID('b796e816-bcf2-441e-a325-ecc8a51b6ddd'), UUID('da768646-4186-47c5-a5c7-2ae39cf5f2a5'), UUID('145e1608-6233-4832-8de7-4d443bbfe576'), UUID('71783fe6-d21c-4695-bb4c-16cb5a708b2d'), UUID('000f86b1-ac25-42e4-8f32-81776296dea5'), UUID('aa75c3b4-516c-445a-bdfd-967c158768fc'), UUID('e91162e4-1ff3-4cee-99aa-9c985f1844e8'), UUID('9074d504-cd27-450c-ae3d-a1b43c92b61f'), UUID('d7e3d9e7-9a49-47ee-9ba8-d5c1ce5c03a4'), UUID('7ac4513d-0c61-4f1f-8aef-7fe208b0a502'), UUID('6ba8898c-3f20-49b2-bdc7-aad6e1a4d0c4'), UUID('8bb986ff-7a01-45c1-b404-8c4220b1d9e5'), UUID('a65f86c9-85f9-42c7-b4a1-aa838526d168'), UUID('7b8e3cf7-8741-41d4-a639-b7543409b8e4'), UUID('2991fc5a-4d6e-4204-bcd7-891b2b10d9c8'), UUID('c7a6c914-ebbd-4812-8d82-2666517a1a6c'), UUID('dd6dc066-5a6b-4adc-8e1f-1299b7433a2b'), UUID('e169d78e-ac0c-44f2-945a-663065b5322e'), UUID('296d6b99-e79f-4b10-ac41-1dcf430d391f'), UUID('2b6fb590-956d-4435-9d56-34a4f0d36b44'), UUID('065daeba-a81c-4f5e-bf48-3b901f6fd1ee'), UUID('e65c2f90-0baa-47a1-9c7a-c90392dcd870'), UUID('105f3180-012d-4685-acf0-dad48b870ea6'), UUID('49c08a79-d882-4a4d-9011-63e0cc633874'), UUID('f6e49f39-a431-4497-a70c-afa5213dded7'), UUID('ccf4e51e-d1de-4731-adfd-aa9189e4d6b3'), UUID('9d9cf2d4-74b7-43e0-b235-def786e24177'), UUID('2f5e8569-51af-48a3-be6b-9be83514c1eb'), UUID('343e0e3c-5346-49df-8f37-bc8829f1ffd3'), UUID('7d622211-877e-4bbe-bf99-d77ed7ca3e09'), UUID('47fe9229-7323-442b-9023-8042ae68f310'), UUID('d3e46a79-a643-4c30-bb34-9ae0206bcd7a'), UUID('0523ff6c-b40d-4597-af30-cba373943e79'), UUID('486446c6-400a-40d9-8d84-31e33f822be2'), UUID('162aa640-be2b-4542-8241-590cc954c7e5'), UUID('6121c61c-37b4-47d7-971b-93c7a4b898e9'), UUID('c16a2fd8-38dd-4689-964c-a84f256277d3'), UUID('f0307349-5561-40ea-8d78-24aee07106c3'), UUID('89f70ec9-e54d-47b4-81aa-e6874c3f180f'), UUID('68a99586-70de-4455-ae7e-aa232072f99a'), UUID('a19de166-8acf-4715-992a-a33e863a9f9e'), UUID('b2f1973c-5c1a-4d8c-b4a8-0f79f5ba1e28'), UUID('1c01f6e9-e686-4fa6-95c7-7d6205a5f429'), UUID('f6bd723f-1963-4c84-bdf0-6fbc5d044089'), UUID('7acdcee2-7901-4d3f-a513-68ab54756f4b'), UUID('87160ad8-b064-4916-8b02-2e823fafbd9b'), UUID('33b53257-e13a-496f-bef3-e17993c7670c'), UUID('8732079d-dd7c-4613-8da7-9cc0a54d80d4'), UUID('7217e158-8afb-4895-bd4b-817b6aef1d68'), UUID('f66d58ac-842a-4cab-91d5-553ffbe1a554'), UUID('637f31f1-e3bf-466b-a05a-1d7be4fac821'), UUID('0d2d7fb6-ec43-4fce-8752-cf0b5da78a67'), UUID('3b30ec8e-581f-423f-9d79-c69f749ee04f'), UUID('8fbc238f-ee61-4a7f-9736-22894f633852'), UUID('3719d0f4-aeb7-4cea-b98f-1f632aedfbfb'), UUID('d393659a-87fc-4c6e-8a3c-cb287df79fa5'), UUID('4a7821ac-5f1e-4c27-9da2-c9de7c0aff39'), UUID('db153343-62fa-4c9e-92ca-ae795a487fc9'), UUID('1033f7dc-d4d5-44cb-9d50-ca42083d33d2'), UUID('86d2a47d-abb2-4a5e-bbd9-a84b469a5648'), UUID('2353bd52-7474-4154-8861-b3930a55e84b'), UUID('7635062f-946a-4dac-90f3-8d82c65f2c30'), UUID('5a08f37a-e4f1-4edf-8e54-6e28aed0bd88'), UUID('b786c814-fb9f-4942-b0a3-0991e74f1c8c'), UUID('86548182-5472-4a93-983f-283dc623f85e'), UUID('804e5cf0-8385-4f54-a193-9b81d25ac3c0'), UUID('a98c455c-7a7d-4773-8d5e-665bb6c057df'), UUID('d896e6e0-ab38-4ec0-8fd6-91490bda3246'), UUID('6a1cbbe5-6823-4803-a16f-5943707ae19d'), UUID('40f3654b-d3c6-439f-8d29-1338ffa6355d'), UUID('077a80e2-cdbf-4cee-8531-96758e286fa6'), UUID('11986afe-acd5-4e05-9792-b3c69dbe312c'), UUID('31b6d264-bac9-4ab6-ae3b-2395d3a309ba'), UUID('e9781668-a0f4-456a-a835-9d4b0133a996'), UUID('3c7ab478-446d-4999-b876-b4eeb978f8f6'), UUID('4b19c123-7201-4d49-87ec-f0cb176d0985'), UUID('c9844eed-36ff-4399-8bf5-6443981f52c6'), UUID('71966be2-5459-468a-a26b-edb628790a53'), UUID('cbe5f4c0-a2e6-4e79-b0b8-518fe7e01b09'), UUID('56f21b97-b227-4faa-acd0-e0f80dade82d'), UUID('7bef906f-5d0a-45c6-8753-dbb0e8c18bff'), UUID('179713cb-7a73-4efe-9f09-0db26c8026a7'), UUID('33fd8a75-7529-426a-b125-e21961ceb6d2'), UUID('81cbfd69-4a14-424a-9150-f0d205b9cc08'), UUID('6ddd45fb-4911-427b-9b77-e5b75f16ce20'), UUID('0ac1d4a0-e529-4eb1-abe8-221eb6ea51e8'), UUID('a4cbabdc-e730-412e-91a8-6a88ce8beefe'), UUID('ddd1f210-4cb7-4167-a23d-f68f716b6f5c'), UUID('b531b7f1-df63-4921-8d9d-e4a505dc0c2f'), UUID('a58be813-b4e9-440f-a96a-b9b31f930284'), UUID('6db08dc7-dfad-4d47-9103-9a530fe98536'), UUID('4161b953-783a-44b6-810b-5245b6c0f38b'), UUID('0f441845-2a17-4f0c-b53c-e59d76bbd6e9'), UUID('2d57cc3e-5d0c-4720-9092-f5f91f8226ea'), UUID('887a18a5-0a7d-4773-ab22-b7aa3a9998d7'), UUID('3bfb86a5-d1ab-4ec7-8bb8-c1bd8869feaa'), UUID('39b72042-816e-4ab5-84ca-338557f2a785'), UUID('540aff21-dd8f-47a6-a133-8b7b43296057'), UUID('3ae253b9-e088-44f3-8dae-7d07adb4da22'), UUID('ec7f45ea-499e-4519-9da0-3aa5dc9ad00e'), UUID('d4a56b8a-3d06-446b-bea2-df863f6ed857'), UUID('9b6d5c4b-cb01-4c8c-9fde-d308f3f12407'), UUID('a92646f4-8b07-4dfa-adb5-303984cefee1'), UUID('f60e9d6f-ec70-4fcb-8024-ea1d4382366a'), UUID('874c398e-4beb-472f-a678-48c202594a9b'), UUID('2806745c-a1a8-421d-bfad-40ec643ee350'), UUID('3a5c682c-3e87-4baa-8672-c1f54b650a98'), UUID('751aea92-8dc4-4b64-a350-bf87cc812005'), UUID('3701d8dc-808b-4cc7-8ce3-df81633d8a1b'), UUID('85210c5b-0f8a-49a9-bb6e-8e96d9c4add4'), UUID('d52bd25c-fd52-44a6-9772-41855a45bfe9'), UUID('e6187543-a15a-40c8-9877-1f4b1c92feee'), UUID('c8f797be-ebd1-4150-8121-eaaacdcb21c1'), UUID('1e4bedab-793e-4baf-a13c-95837f6665f3'), UUID('ecf6ff40-4132-4567-81e2-46f4ac10b2a0'), UUID('c6fad990-3e6b-46eb-a1c8-e3fe70a3fa96'), UUID('e7de1cbf-270c-4fba-a354-8c9a0a9c9c84'), UUID('3265b3c1-edc9-4cc2-93b7-35adb9d8e83d'), UUID('9a51dabe-a8ec-4b53-b755-2a2c5393a2f2'), UUID('6f691687-9d10-41c6-93ab-16f25a0ca7b9'), UUID('ffaa89af-1b52-4419-989c-2475c1b83c52'), UUID('dd9be5be-df3a-48ab-bb9f-5af283bbb262'), UUID('1d028386-60eb-4add-b78d-8f8ee73e8b81'), UUID('621a08b7-659d-4e32-8a87-b95263e14fd2'), UUID('422a8c04-4f6f-453f-844a-2f3a7cea1807'), UUID('f772fc08-008e-42cc-93a8-a4f6a8000dfb'), UUID('1d150078-de1e-4db4-b22f-2c2350214505'), UUID('baeb0dc9-2fdb-471b-a52a-3da8931719fe'), UUID('1b95091a-c79b-4c36-a660-cc12fe3d2a71'), UUID('cf7929db-4335-432d-8502-5e0c30b7b963'), UUID('02a56dad-c8c2-4e2f-a48b-59c2c91e7fc0'), UUID('d4053c83-c7e5-4ae7-8ce3-0324318caeea'), UUID('b411d59a-a2c3-46da-9429-b9a8cf46b9a8'), UUID('92fbddaa-71fe-4ca4-bd77-c4cd7f4d39cf'), UUID('18dfe75d-662b-4718-ba9d-c9cfa22d38ed'), UUID('891fd005-b886-4f6d-a7ec-8e3184d8c727'), UUID('b7083106-2f73-456f-bef2-1c453c014011'), UUID('b8f40863-6eb8-4cfb-b337-e0084b22bebd'), UUID('6245155f-55de-4284-aab3-2807ec11f9cf'), UUID('160bfc45-c24a-4083-a45b-8ec20a759560'), UUID('bebe1e9b-230d-4679-a058-152d28ec05d9'), UUID('1832cad6-4196-4460-a537-fca8a871df4a'), UUID('4104ba65-41d5-42e1-b1e8-a5a64ca31f46'), UUID('92d07889-62b7-4835-ad7b-5d49366946ff'), UUID('74d6af83-719f-480e-b7d1-79ddc9f51a96'), UUID('ff35577a-8c44-40b6-8f41-d1be7c96bb7c'), UUID('46aa8ba5-6058-42a1-bb07-d3f3e9ad2322'), UUID('a743e5b5-6335-45a8-b24a-04f0f0981285'), UUID('0c8bfb28-4712-4417-a452-d13e55e4697f'), UUID('574c8c09-df3c-423b-863d-31f63934c814'), UUID('24e8e2f9-742b-459b-aab8-df5ac2290161'), UUID('774a7b76-541a-4edf-b110-75f2156740de'), UUID('c66757c6-f118-4124-bf84-d5fd1ed33449'), UUID('1710f060-fb8f-4cb8-98dd-602155d33c26'), UUID('01fd05a5-8d46-4b25-a6d8-85af7a3d5326'), UUID('419a36e7-deec-48df-9c35-d3011c72ab5a'), UUID('2c7dec6c-0fba-41c9-a206-db17354e18fa'), UUID('899811fe-5c98-47c3-bdae-dedf324b5a5e'), UUID('0683daf8-08f8-41fb-8808-68177176e3ce'), UUID('8f4f7f22-ae92-4e52-80e4-cf711d4e944b'), UUID('a6fb4256-e266-461e-9ab4-c820bc0dea4b'), UUID('91be213f-d892-43c6-a568-73c8067eab54'), UUID('d986f66e-e3a4-42d0-b43b-2944965d3cb8'), UUID('768963b3-86ad-4817-ad04-eb065de8e128'), UUID('e83d1f7b-448a-41f5-b1ec-58fa522a6a76'), UUID('3fcf87e4-2401-4f77-87a2-b0319b1fb111')], elapsed_seconds=6.072611570358276, errors={}, uuids={0: UUID('10b2e957-7449-49a5-910e-68c3e5e6497a'), 1: UUID('a3991d4b-caa0-4b96-bfae-a0d8caf931f6'), 2: UUID('e20958b2-43d9-40e7-a5b7-32827f682be8'), 3: UUID('0ae79348-1fe6-4841-91c8-54369d4a4c06'), 4: UUID('83b16613-14e5-4385-b0cb-67f3960cb4a5'), 5: UUID('baec563e-10dc-4e74-acfb-d6ade9aac05e'), 6: UUID('c04a37e6-d57b-4f7d-a219-4d114a455020'), 7: UUID('626253fd-999a-4e51-a30e-fa942d427ad9'), 8: UUID('8971e35c-0024-44e4-9a6e-140aa026d1ed'), 9: UUID('454141be-e68f-4397-b5af-c81d2df4b6b1'), 10: UUID('ad477820-d8d3-40d7-aaea-066a60accd75'), 11: UUID('95400e65-35a1-43a4-99d5-51e2b75db7ee'), 12: UUID('6dea55fa-f35e-451e-bf48-cfab011a0eca'), 13: UUID('225ffc01-931b-4374-896d-c8298f6dd5cf'), 14: UUID('89669deb-1764-462e-92b6-02aabe95e849'), 15: UUID('724f560b-ac49-4bb6-8775-67afd97bd776'), 16: UUID('afcf2e3b-711f-4012-9c73-80fe85297e20'), 17: UUID('ffe06d4d-e9bb-45d9-80da-1fcb9330a317'), 18: UUID('e99fbbb0-2b15-4ecd-b212-6519c6357ef6'), 19: UUID('feb97b55-28c6-4523-a991-d41c2bb90fac'), 20: UUID('65be47ac-9ac7-4e99-a209-eae86456eca8'), 21: UUID('d06da293-26dc-4bf6-835c-ca2efcc64f15'), 22: UUID('47aaa6f7-8da3-4e94-9d7a-9bb46d2d3f65'), 23: UUID('ad5ca486-a822-4dc5-8749-175b9b1cb94b'), 24: UUID('8e894180-de83-4d04-bc78-18c0a9427157'), 25: UUID('ddba3333-a734-4ad2-936b-8efef2facef8'), 26: UUID('c519527e-5e9c-45da-9acb-51bfc83a97e4'), 27: UUID('0e000892-a4a7-45b1-84af-07a3f79bf52d'), 28: UUID('b6cb8a5b-37e9-450f-bf8c-9159119b20f3'), 29: UUID('8c67f433-98d3-4209-884e-238096c7b262'), 30: UUID('af4d30d3-828c-4bec-bd10-a202e9d0d9d0'), 31: UUID('4eeb5b1f-9c46-411f-9d5f-26393824cc4f'), 32: UUID('43ae3929-c8e1-4dab-9dd9-f802d8cbc1a3'), 33: UUID('9add70e9-7515-466a-b9e8-62989e2ed946'), 34: UUID('c492f234-3ba5-441d-99f1-7f592db54816'), 35: UUID('51e3fdc0-4a35-427c-9607-fd24078fa9a3'), 36: UUID('b23e1cfb-b70c-4766-bfae-69d7c31cd611'), 37: UUID('24f46286-4d5c-4cff-8f89-033b9bce82d7'), 38: UUID('6337dfb5-6c10-44ae-9f0a-ec57bc9b4808'), 39: UUID('76fc352f-3cc5-4419-a5d6-4da85152518a'), 40: UUID('09e5bb95-9f8a-47d8-b3bc-f57e8ccadc1a'), 41: UUID('bf947212-ce18-4b19-afee-3c2b5cc688aa'), 42: UUID('2d78af6f-1e6c-4284-9da4-8dce8858c89b'), 43: UUID('b0b600dc-5222-4d84-b853-9932cd6ff3b3'), 44: UUID('bc32117e-75ee-4d9b-8a1a-256d886c47d3'), 45: UUID('83df5734-aeb7-4238-9199-51f0a2b57d32'), 46: UUID('cc1e2beb-bb0a-438f-9720-581be30136e5'), 47: UUID('3cf0d735-9b5e-4a75-b573-669ebdf9d8a6'), 48: UUID('a4983c81-1d2d-4866-994d-4082a372181c'), 49: UUID('5cdcee71-e841-43e5-9aba-1bfe96206888'), 50: UUID('50eb182a-8759-4507-9865-2936888ab0fa'), 51: UUID('82dcd46e-6acd-4fcc-9dbe-10608762a6d8'), 52: UUID('cc8eb95e-c169-42ef-8a67-080fefcb7f0d'), 53: UUID('66820339-002b-4a78-95aa-ccb2f9740596'), 54: UUID('3df662da-553d-42b7-9cc8-f31a3c307bae'), 55: UUID('b5486bdb-baea-4afb-8040-4f7f012c50ce'), 56: UUID('2ab7c65f-3e46-4327-ad4a-2f2b8efd1257'), 57: UUID('430a8df4-2b84-40f2-a671-4f0b17329f91'), 58: UUID('049df64d-422f-4888-a247-10cb186099d0'), 59: UUID('adb7a830-7319-4b74-b7cd-2de379efc25c'), 60: UUID('0a385f01-b901-438f-ac4e-21aa79ad353b'), 61: UUID('6d7037a2-466b-4fff-bdaa-812bc24885eb'), 62: UUID('ed3e57f4-152c-4986-bcc7-4bd36a5386ab'), 63: UUID('0d8e795f-e44e-45aa-b886-468dda30f230'), 64: UUID('cb214ebb-2907-4d4b-9e63-6873e5297611'), 65: UUID('a1fc8c47-f9a0-464b-8333-bb1fc3c2cd5c'), 66: UUID('da97d7fe-8bc8-4fe8-9ffc-07c85c374de5'), 67: UUID('156838f4-39b8-47c9-ada6-50c7a2d62b41'), 68: UUID('2f1c8e90-66c1-44c3-9681-42d62551e360'), 69: UUID('02215ca7-026b-4885-a124-12ceaaa0a160'), 70: UUID('f88e1581-d4cb-4e72-ad47-270783bd1a7e'), 71: UUID('31d7e912-5b65-4bda-b0be-cbb69b9a9ef2'), 72: UUID('d00a6625-918f-40b9-ad00-7d3712686a29'), 73: UUID('13a56969-07a9-4a3a-b415-4b744b9a6672'), 74: UUID('d5f0e9bc-15d5-4748-a742-50e6e14762dd'), 75: UUID('c4e4ff6c-02dd-48ea-a478-72cb92a825ad'), 76: UUID('c71940ab-a414-4e96-af0a-957657e1e59b'), 77: UUID('9514f5af-9652-44ca-b8fe-7c9801367012'), 78: UUID('fb64a4a3-adfb-4488-a78b-9ed5204ea52a'), 79: UUID('e606d66d-08b5-4953-96db-5a2768f5dc1c'), 80: UUID('009f44a8-32a4-400b-8d28-35227c39f79a'), 81: UUID('f436932e-664a-413b-81bb-6798f9e5dc8b'), 82: UUID('8d586d98-a2b7-4141-89fd-e8733b3d6041'), 83: UUID('bed3cca9-5991-409e-83ab-b825471fa4d5'), 84: UUID('e4614ef9-c554-4db2-b7f1-c82d82abc861'), 85: UUID('0f7237e0-ce13-4569-b2fe-b93cb81309c9'), 86: UUID('3047c4a6-d67c-4348-b063-68a40ca48c3f'), 87: UUID('aaef25cd-59d6-481f-9c23-0e940c903f8b'), 88: UUID('39d1d559-f4d7-447a-a629-22d573be2b60'), 89: UUID('b7fe3e9a-c502-40b5-a0fe-41bbe1c09d5f'), 90: UUID('7a3b2694-f586-40df-8b14-541d27c8d6e5'), 91: UUID('d9f32217-9ef6-4af2-a00a-fd5721bfbef9'), 92: UUID('3283337c-f593-47cd-9908-5a45b565c777'), 93: UUID('64cc7d9c-172f-425a-a632-ea2457d8c52a'), 94: UUID('305bb4e3-1ffe-4738-bac1-e7248183ef78'), 95: UUID('ba76cdf3-2901-4918-a19e-3bd70eb84681'), 96: UUID('5b690c1d-5071-4e6e-8eec-9edb17427200'), 97: UUID('b0624fec-0fa4-4eff-8781-8b8d3079582a'), 98: UUID('2d5b0859-6f89-4631-b15f-c7e9b90e1388'), 99: UUID('0310ebce-c8b2-41e6-b1dc-1db8ea7525a0'), 100: UUID('b90ecf92-4b96-4c8c-a194-afd03368a803'), 101: UUID('b3e51bbc-fa20-4b37-9c3f-c33d84ddadce'), 102: UUID('f12c6c02-ad5c-4ef5-a92a-1f2c8da346cd'), 103: UUID('28490ba9-ecb7-4b81-a95c-e20d199e98fe'), 104: UUID('07df2bcd-1642-4160-8aa4-ecd7c87d4256'), 105: UUID('b05c5991-36e0-4793-a124-224442741475'), 106: UUID('7942d28c-29a8-4ee2-933e-c738acf31c4d'), 107: UUID('27386b37-6eb8-40e2-80fb-1e9056b6517e'), 108: UUID('a4f8ea0d-8bc5-4aa3-a222-f522479446d8'), 109: UUID('758641fd-cb5a-4562-aaa2-c27788e03a62'), 110: UUID('6b65627f-8550-449c-bb58-b10312feccb9'), 111: UUID('e814c50a-5a20-4afc-ad06-5b81b36ffebb'), 112: UUID('849910e7-d2f4-449e-ab18-07e59580ce53'), 113: UUID('b59142c1-90f0-43ae-9fe4-15fb2708ac20'), 114: UUID('cc971fa9-3d9d-4b88-bb45-6ccd8b5b7c4b'), 115: UUID('94b74e36-6934-4fc4-a0ed-ec1a84b05bce'), 116: UUID('e05bb6bb-412a-4d3d-bf3e-9282d552aaf8'), 117: UUID('712cde82-a7a6-45c5-992c-5dad00d417ba'), 118: UUID('c9073ff1-da76-4f19-a461-783a4a84ab0d'), 119: UUID('0573af8e-3eed-4f03-97ed-9ee66976d0b6'), 120: UUID('d36ab3b1-f82e-46ab-bf01-647fd4857afe'), 121: UUID('3b5c2db3-74fa-465a-a8be-b523a1316dd3'), 122: UUID('f651cd93-5d68-4875-9ff6-9fc7b4840c73'), 123: UUID('58b1c24b-8d04-4244-a688-7ae4a05ae6af'), 124: UUID('e05cf6cc-62c3-4a49-b3dc-09824938bc17'), 125: UUID('e6b4e09b-9959-4eb7-9971-37a38292b277'), 126: UUID('83b6b754-0857-4ff6-a6b5-7b42a9079c5f'), 127: UUID('be9f4c6e-e9d3-4f55-8409-c16317cde32b'), 128: UUID('d2edc3c8-02de-40b8-be0f-73cb40119129'), 129: UUID('f46f90d9-2ddd-4022-98ae-4900bf85eb69'), 130: UUID('d865b6b5-4674-4d35-bdd0-250df923846a'), 131: UUID('db8df21a-4b1f-4ec4-9aab-eb609010d3ca'), 132: UUID('8dc0c8c6-2234-4fae-91aa-8faf91a39841'), 133: UUID('70d1f6c9-aac5-4be6-906a-08de7360f369'), 134: UUID('6ba28f79-04e7-4fc1-8c94-24802fab98c2'), 135: UUID('2fca9e36-33c4-40fc-bc8d-494755a93207'), 136: UUID('36f2ef97-1dfa-405e-a4fe-a576b6af12ef'), 137: UUID('e64e431d-123f-465e-ab8f-42c0e85d3f11'), 138: UUID('d85f8f59-b0ac-49b7-b3ad-35d55ea80800'), 139: UUID('9b8059f4-6200-4c3f-96c5-35be6e5c5344'), 140: UUID('55f25811-f17b-4262-9543-c95101be07d4'), 141: UUID('d44f9011-c560-420b-b72f-095c755b5b23'), 142: UUID('5f66ad92-fb1d-4d8d-b0d7-20000e743c75'), 143: UUID('30af0b34-d0ed-41a2-b419-379e326269c6'), 144: UUID('51b441ca-4645-4a47-bfa4-e525a62cce8b'), 145: UUID('92c71113-6ad9-4938-990f-30ecd69318cf'), 146: UUID('413404c6-7f95-46ce-afcc-43198e675622'), 147: UUID('486a0bd2-318a-461f-80b5-16446c89740b'), 148: UUID('e6a56c91-cb5e-4152-940c-a73f8d883989'), 149: UUID('e9843247-ccef-4db8-b985-3a73b79d4af3'), 150: UUID('c8ff0cd2-331a-4b16-8fd8-b83c0d15291c'), 151: UUID('52cf5d63-78eb-419d-818c-12969c2fa7d5'), 152: UUID('d0326ed8-5648-4d1b-a7b0-2ac1c0c7844a'), 153: UUID('255aadc4-31fb-4555-b811-26842032d6c3'), 154: UUID('9effee3e-0827-4968-8863-3d43eea801e6'), 155: UUID('be42dbfb-dcba-4d35-84f4-d5c331fc9ee0'), 156: UUID('6941ecb9-212b-4708-8417-99ec18dc1234'), 157: UUID('a1bc5d4c-df02-4695-9d97-30693b11a874'), 158: UUID('a5625240-d064-4312-944f-c5d0cb63c023'), 159: UUID('a60a0a01-6a60-4912-9887-44134ab107ef'), 160: UUID('8cd4a4b6-3cc8-45b8-8e20-66be3a1fe8e3'), 161: UUID('4b39fa72-82e6-4781-85f0-5c020d633839'), 162: UUID('3edbd82d-0d33-464e-8480-bc4e2a0ee149'), 163: UUID('8bf6ec87-853f-422d-b79b-aae105f4bf71'), 164: UUID('50b6d7f0-f7cc-4dd5-97b1-d661459390ee'), 165: UUID('8c1af115-c335-486b-b901-bb4d406251a1'), 166: UUID('a7201a64-9262-4efa-895b-ce4bb3770b11'), 167: UUID('462bb748-21f0-4102-bb61-49d05b38a74f'), 168: UUID('a603016f-16ec-418e-bf27-ff6c94ca3ab6'), 169: UUID('4447e92c-9608-4ced-bc00-762413e83826'), 170: UUID('df2bd4f3-1232-44b5-95e8-4ad0d405be35'), 171: UUID('838d3545-7fbd-41d0-aa85-9980fe95d394'), 172: UUID('edaa342c-4aca-46d5-b47a-0054f51c8e88'), 173: UUID('b796e816-bcf2-441e-a325-ecc8a51b6ddd'), 174: UUID('da768646-4186-47c5-a5c7-2ae39cf5f2a5'), 175: UUID('145e1608-6233-4832-8de7-4d443bbfe576'), 176: UUID('71783fe6-d21c-4695-bb4c-16cb5a708b2d'), 177: UUID('000f86b1-ac25-42e4-8f32-81776296dea5'), 178: UUID('aa75c3b4-516c-445a-bdfd-967c158768fc'), 179: UUID('e91162e4-1ff3-4cee-99aa-9c985f1844e8'), 180: UUID('9074d504-cd27-450c-ae3d-a1b43c92b61f'), 181: UUID('d7e3d9e7-9a49-47ee-9ba8-d5c1ce5c03a4'), 182: UUID('7ac4513d-0c61-4f1f-8aef-7fe208b0a502'), 183: UUID('6ba8898c-3f20-49b2-bdc7-aad6e1a4d0c4'), 184: UUID('8bb986ff-7a01-45c1-b404-8c4220b1d9e5'), 185: UUID('a65f86c9-85f9-42c7-b4a1-aa838526d168'), 186: UUID('7b8e3cf7-8741-41d4-a639-b7543409b8e4'), 187: UUID('2991fc5a-4d6e-4204-bcd7-891b2b10d9c8'), 188: UUID('c7a6c914-ebbd-4812-8d82-2666517a1a6c'), 189: UUID('dd6dc066-5a6b-4adc-8e1f-1299b7433a2b'), 190: UUID('e169d78e-ac0c-44f2-945a-663065b5322e'), 191: UUID('296d6b99-e79f-4b10-ac41-1dcf430d391f'), 192: UUID('2b6fb590-956d-4435-9d56-34a4f0d36b44'), 193: UUID('065daeba-a81c-4f5e-bf48-3b901f6fd1ee'), 194: UUID('e65c2f90-0baa-47a1-9c7a-c90392dcd870'), 195: UUID('105f3180-012d-4685-acf0-dad48b870ea6'), 196: UUID('49c08a79-d882-4a4d-9011-63e0cc633874'), 197: UUID('f6e49f39-a431-4497-a70c-afa5213dded7'), 198: UUID('ccf4e51e-d1de-4731-adfd-aa9189e4d6b3'), 199: UUID('9d9cf2d4-74b7-43e0-b235-def786e24177'), 200: UUID('2f5e8569-51af-48a3-be6b-9be83514c1eb'), 201: UUID('343e0e3c-5346-49df-8f37-bc8829f1ffd3'), 202: UUID('7d622211-877e-4bbe-bf99-d77ed7ca3e09'), 203: UUID('47fe9229-7323-442b-9023-8042ae68f310'), 204: UUID('d3e46a79-a643-4c30-bb34-9ae0206bcd7a'), 205: UUID('0523ff6c-b40d-4597-af30-cba373943e79'), 206: UUID('486446c6-400a-40d9-8d84-31e33f822be2'), 207: UUID('162aa640-be2b-4542-8241-590cc954c7e5'), 208: UUID('6121c61c-37b4-47d7-971b-93c7a4b898e9'), 209: UUID('c16a2fd8-38dd-4689-964c-a84f256277d3'), 210: UUID('f0307349-5561-40ea-8d78-24aee07106c3'), 211: UUID('89f70ec9-e54d-47b4-81aa-e6874c3f180f'), 212: UUID('68a99586-70de-4455-ae7e-aa232072f99a'), 213: UUID('a19de166-8acf-4715-992a-a33e863a9f9e'), 214: UUID('b2f1973c-5c1a-4d8c-b4a8-0f79f5ba1e28'), 215: UUID('1c01f6e9-e686-4fa6-95c7-7d6205a5f429'), 216: UUID('f6bd723f-1963-4c84-bdf0-6fbc5d044089'), 217: UUID('7acdcee2-7901-4d3f-a513-68ab54756f4b'), 218: UUID('87160ad8-b064-4916-8b02-2e823fafbd9b'), 219: UUID('33b53257-e13a-496f-bef3-e17993c7670c'), 220: UUID('8732079d-dd7c-4613-8da7-9cc0a54d80d4'), 221: UUID('7217e158-8afb-4895-bd4b-817b6aef1d68'), 222: UUID('f66d58ac-842a-4cab-91d5-553ffbe1a554'), 223: UUID('637f31f1-e3bf-466b-a05a-1d7be4fac821'), 224: UUID('0d2d7fb6-ec43-4fce-8752-cf0b5da78a67'), 225: UUID('3b30ec8e-581f-423f-9d79-c69f749ee04f'), 226: UUID('8fbc238f-ee61-4a7f-9736-22894f633852'), 227: UUID('3719d0f4-aeb7-4cea-b98f-1f632aedfbfb'), 228: UUID('d393659a-87fc-4c6e-8a3c-cb287df79fa5'), 229: UUID('4a7821ac-5f1e-4c27-9da2-c9de7c0aff39'), 230: UUID('db153343-62fa-4c9e-92ca-ae795a487fc9'), 231: UUID('1033f7dc-d4d5-44cb-9d50-ca42083d33d2'), 232: UUID('86d2a47d-abb2-4a5e-bbd9-a84b469a5648'), 233: UUID('2353bd52-7474-4154-8861-b3930a55e84b'), 234: UUID('7635062f-946a-4dac-90f3-8d82c65f2c30'), 235: UUID('5a08f37a-e4f1-4edf-8e54-6e28aed0bd88'), 236: UUID('b786c814-fb9f-4942-b0a3-0991e74f1c8c'), 237: UUID('86548182-5472-4a93-983f-283dc623f85e'), 238: UUID('804e5cf0-8385-4f54-a193-9b81d25ac3c0'), 239: UUID('a98c455c-7a7d-4773-8d5e-665bb6c057df'), 240: UUID('d896e6e0-ab38-4ec0-8fd6-91490bda3246'), 241: UUID('6a1cbbe5-6823-4803-a16f-5943707ae19d'), 242: UUID('40f3654b-d3c6-439f-8d29-1338ffa6355d'), 243: UUID('077a80e2-cdbf-4cee-8531-96758e286fa6'), 244: UUID('11986afe-acd5-4e05-9792-b3c69dbe312c'), 245: UUID('31b6d264-bac9-4ab6-ae3b-2395d3a309ba'), 246: UUID('e9781668-a0f4-456a-a835-9d4b0133a996'), 247: UUID('3c7ab478-446d-4999-b876-b4eeb978f8f6'), 248: UUID('4b19c123-7201-4d49-87ec-f0cb176d0985'), 249: UUID('c9844eed-36ff-4399-8bf5-6443981f52c6'), 250: UUID('71966be2-5459-468a-a26b-edb628790a53'), 251: UUID('cbe5f4c0-a2e6-4e79-b0b8-518fe7e01b09'), 252: UUID('56f21b97-b227-4faa-acd0-e0f80dade82d'), 253: UUID('7bef906f-5d0a-45c6-8753-dbb0e8c18bff'), 254: UUID('179713cb-7a73-4efe-9f09-0db26c8026a7'), 255: UUID('33fd8a75-7529-426a-b125-e21961ceb6d2'), 256: UUID('81cbfd69-4a14-424a-9150-f0d205b9cc08'), 257: UUID('6ddd45fb-4911-427b-9b77-e5b75f16ce20'), 258: UUID('0ac1d4a0-e529-4eb1-abe8-221eb6ea51e8'), 259: UUID('a4cbabdc-e730-412e-91a8-6a88ce8beefe'), 260: UUID('ddd1f210-4cb7-4167-a23d-f68f716b6f5c'), 261: UUID('b531b7f1-df63-4921-8d9d-e4a505dc0c2f'), 262: UUID('a58be813-b4e9-440f-a96a-b9b31f930284'), 263: UUID('6db08dc7-dfad-4d47-9103-9a530fe98536'), 264: UUID('4161b953-783a-44b6-810b-5245b6c0f38b'), 265: UUID('0f441845-2a17-4f0c-b53c-e59d76bbd6e9'), 266: UUID('2d57cc3e-5d0c-4720-9092-f5f91f8226ea'), 267: UUID('887a18a5-0a7d-4773-ab22-b7aa3a9998d7'), 268: UUID('3bfb86a5-d1ab-4ec7-8bb8-c1bd8869feaa'), 269: UUID('39b72042-816e-4ab5-84ca-338557f2a785'), 270: UUID('540aff21-dd8f-47a6-a133-8b7b43296057'), 271: UUID('3ae253b9-e088-44f3-8dae-7d07adb4da22'), 272: UUID('ec7f45ea-499e-4519-9da0-3aa5dc9ad00e'), 273: UUID('d4a56b8a-3d06-446b-bea2-df863f6ed857'), 274: UUID('9b6d5c4b-cb01-4c8c-9fde-d308f3f12407'), 275: UUID('a92646f4-8b07-4dfa-adb5-303984cefee1'), 276: UUID('f60e9d6f-ec70-4fcb-8024-ea1d4382366a'), 277: UUID('874c398e-4beb-472f-a678-48c202594a9b'), 278: UUID('2806745c-a1a8-421d-bfad-40ec643ee350'), 279: UUID('3a5c682c-3e87-4baa-8672-c1f54b650a98'), 280: UUID('751aea92-8dc4-4b64-a350-bf87cc812005'), 281: UUID('3701d8dc-808b-4cc7-8ce3-df81633d8a1b'), 282: UUID('85210c5b-0f8a-49a9-bb6e-8e96d9c4add4'), 283: UUID('d52bd25c-fd52-44a6-9772-41855a45bfe9'), 284: UUID('e6187543-a15a-40c8-9877-1f4b1c92feee'), 285: UUID('c8f797be-ebd1-4150-8121-eaaacdcb21c1'), 286: UUID('1e4bedab-793e-4baf-a13c-95837f6665f3'), 287: UUID('ecf6ff40-4132-4567-81e2-46f4ac10b2a0'), 288: UUID('c6fad990-3e6b-46eb-a1c8-e3fe70a3fa96'), 289: UUID('e7de1cbf-270c-4fba-a354-8c9a0a9c9c84'), 290: UUID('3265b3c1-edc9-4cc2-93b7-35adb9d8e83d'), 291: UUID('9a51dabe-a8ec-4b53-b755-2a2c5393a2f2'), 292: UUID('6f691687-9d10-41c6-93ab-16f25a0ca7b9'), 293: UUID('ffaa89af-1b52-4419-989c-2475c1b83c52'), 294: UUID('dd9be5be-df3a-48ab-bb9f-5af283bbb262'), 295: UUID('1d028386-60eb-4add-b78d-8f8ee73e8b81'), 296: UUID('621a08b7-659d-4e32-8a87-b95263e14fd2'), 297: UUID('422a8c04-4f6f-453f-844a-2f3a7cea1807'), 298: UUID('f772fc08-008e-42cc-93a8-a4f6a8000dfb'), 299: UUID('1d150078-de1e-4db4-b22f-2c2350214505'), 300: UUID('baeb0dc9-2fdb-471b-a52a-3da8931719fe'), 301: UUID('1b95091a-c79b-4c36-a660-cc12fe3d2a71'), 302: UUID('cf7929db-4335-432d-8502-5e0c30b7b963'), 303: UUID('02a56dad-c8c2-4e2f-a48b-59c2c91e7fc0'), 304: UUID('d4053c83-c7e5-4ae7-8ce3-0324318caeea'), 305: UUID('b411d59a-a2c3-46da-9429-b9a8cf46b9a8'), 306: UUID('92fbddaa-71fe-4ca4-bd77-c4cd7f4d39cf'), 307: UUID('18dfe75d-662b-4718-ba9d-c9cfa22d38ed'), 308: UUID('891fd005-b886-4f6d-a7ec-8e3184d8c727'), 309: UUID('b7083106-2f73-456f-bef2-1c453c014011'), 310: UUID('b8f40863-6eb8-4cfb-b337-e0084b22bebd'), 311: UUID('6245155f-55de-4284-aab3-2807ec11f9cf'), 312: UUID('160bfc45-c24a-4083-a45b-8ec20a759560'), 313: UUID('bebe1e9b-230d-4679-a058-152d28ec05d9'), 314: UUID('1832cad6-4196-4460-a537-fca8a871df4a'), 315: UUID('4104ba65-41d5-42e1-b1e8-a5a64ca31f46'), 316: UUID('92d07889-62b7-4835-ad7b-5d49366946ff'), 317: UUID('74d6af83-719f-480e-b7d1-79ddc9f51a96'), 318: UUID('ff35577a-8c44-40b6-8f41-d1be7c96bb7c'), 319: UUID('46aa8ba5-6058-42a1-bb07-d3f3e9ad2322'), 320: UUID('a743e5b5-6335-45a8-b24a-04f0f0981285'), 321: UUID('0c8bfb28-4712-4417-a452-d13e55e4697f'), 322: UUID('574c8c09-df3c-423b-863d-31f63934c814'), 323: UUID('24e8e2f9-742b-459b-aab8-df5ac2290161'), 324: UUID('774a7b76-541a-4edf-b110-75f2156740de'), 325: UUID('c66757c6-f118-4124-bf84-d5fd1ed33449'), 326: UUID('1710f060-fb8f-4cb8-98dd-602155d33c26'), 327: UUID('01fd05a5-8d46-4b25-a6d8-85af7a3d5326'), 328: UUID('419a36e7-deec-48df-9c35-d3011c72ab5a'), 329: UUID('2c7dec6c-0fba-41c9-a206-db17354e18fa'), 330: UUID('899811fe-5c98-47c3-bdae-dedf324b5a5e'), 331: UUID('0683daf8-08f8-41fb-8808-68177176e3ce'), 332: UUID('8f4f7f22-ae92-4e52-80e4-cf711d4e944b'), 333: UUID('a6fb4256-e266-461e-9ab4-c820bc0dea4b'), 334: UUID('91be213f-d892-43c6-a568-73c8067eab54'), 335: UUID('d986f66e-e3a4-42d0-b43b-2944965d3cb8'), 336: UUID('768963b3-86ad-4817-ad04-eb065de8e128'), 337: UUID('e83d1f7b-448a-41f5-b1ec-58fa522a6a76'), 338: UUID('3fcf87e4-2401-4f77-87a2-b0319b1fb111')}, has_errors=False)"
            ]
          },
          "metadata": {},
          "execution_count": 25
        }
      ]
    },
    {
      "cell_type": "markdown",
      "source": [
        "# Get pre-created collection"
      ],
      "metadata": {
        "id": "Ow8LYPgaZPmw"
      }
    },
    {
      "cell_type": "code",
      "source": [
        "clauses = client.collections.get(\"Clause\")"
      ],
      "metadata": {
        "id": "ry8QHzDRY9lX"
      },
      "execution_count": 12,
      "outputs": []
    },
    {
      "cell_type": "markdown",
      "source": [
        "# Semantic search"
      ],
      "metadata": {
        "id": "wDbzu3ecZS46"
      }
    },
    {
      "cell_type": "code",
      "source": [
        "# A nearText search looks for objects in Weaviate whose vectors are most similar to the vector for the given input text.\n",
        "# Use the Near Text operator to find objects with the nearest vector to an input text.\n",
        "\n",
        "# If you have an object ID, use the Near Object operator to find similar objects to that object.\n",
        "# near_object=\"56b9449e-65db-5df4-887b-0a4773f52aa7\",\n",
        "\n",
        "# If you have an input vector, use the Near Vector operator to find objects with similar vectors\n",
        "# near_vector=query_vector, # your query vector goes here\n",
        "\n",
        "# To set a similarity threshold between the search and target vectors, define a maximum distance (or certainty).\n",
        "# distance=0.18, # max accepted distance\n",
        "\n",
        "response = clauses.query.near_text(\n",
        "    query=\"salary\",\n",
        "    limit=1,                                                          # Top n results\n",
        "    filters=wvc.query.Filter.by_property(\"category\").equal(\"Taxes\"),  # OPTIONAL\n",
        "    return_metadata=wvc.query.MetadataQuery(distance=True)            # OPTIONAL\n",
        ")"
      ],
      "metadata": {
        "id": "LBqEGyZ0b9wy"
      },
      "execution_count": 99,
      "outputs": []
    },
    {
      "cell_type": "code",
      "source": [
        "for o in response.objects:\n",
        "        print(o.properties)\n",
        "        print(o.metadata.distance)"
      ],
      "metadata": {
        "colab": {
          "base_uri": "https://localhost:8080/"
        },
        "id": "XaK0fmzFesIG",
        "outputId": "fd89cbc8-6d79-4a25-ae86-e09da4b3901c"
      },
      "execution_count": 100,
      "outputs": [
        {
          "output_type": "stream",
          "name": "stdout",
          "text": [
            "{'clause': 'All payments under this Agreement shall be subject to applicable tax withholding.', 'category': 'Taxes'}\n",
            "0.21400493383407593\n"
          ]
        }
      ]
    },
    {
      "cell_type": "markdown",
      "source": [
        "### Classification using Semantic search - Get classes of vectors most similar to new vector NOT stored in vector db"
      ],
      "metadata": {
        "id": "XPuOdPyJcJpF"
      }
    },
    {
      "cell_type": "code",
      "source": [
        "query_vector = [\"An instrument certifying that Seller’s representations and warranties set forth in Section 8 above are true and correct as of the Closing Date\"]\n",
        "response = clauses.query.near_text(\n",
        "  query = query_vector, # your query vector goes here\n",
        "  limit=2,\n",
        "  return_metadata=wvc.query.MetadataQuery(distance=True)\n",
        ")\n",
        "\n",
        "for o in response.objects:\n",
        "  print(o.properties)\n",
        "  print(o.metadata.distance)"
      ],
      "metadata": {
        "colab": {
          "base_uri": "https://localhost:8080/"
        },
        "id": "uqzYOa_YezhN",
        "outputId": "da15ffbc-da06-41b2-eb6f-48721c46be2e"
      },
      "execution_count": 101,
      "outputs": [
        {
          "output_type": "stream",
          "name": "stdout",
          "text": [
            "{'clause': 'All of the representations and warranties contained herein shall survive the Closing Dates.', 'category': 'Warranties'}\n",
            "0.14580261707305908\n",
            "{'clause': 'The representations and warranties of the Sellers to the Buyer are as set forth in this Section 4.', 'category': 'Representations'}\n",
            "0.15560179948806763\n"
          ]
        }
      ]
    },
    {
      "cell_type": "code",
      "source": [
        "query_vector = [\"The Holders shall have received the Company’s draft internally prepared financial statements for the fiscal quarter ended June 30, 2016.\"]\n",
        "response = clauses.query.near_text(\n",
        "  query = query_vector, # your query vector goes here\n",
        "  limit=2,\n",
        "  return_metadata=wvc.query.MetadataQuery(distance=True)\n",
        ")\n",
        "\n",
        "for o in response.objects:\n",
        "  print(o.properties)\n",
        "  print(o.metadata.distance)"
      ],
      "metadata": {
        "colab": {
          "base_uri": "https://localhost:8080/"
        },
        "id": "iPz7fU9VpA5a",
        "outputId": "84a05ce5-efaf-4fb4-93ea-da1476ba92f5"
      },
      "execution_count": 102,
      "outputs": [
        {
          "output_type": "stream",
          "name": "stdout",
          "text": [
            "{'clause': 'The DIP Agent shall have received the financial statements described in Section\\xa03.04(a).', 'category': 'Financial Statements'}\n",
            "0.13827496767044067\n",
            "{'clause': 'A copy of the Original Financial Statements of each Borrower, HoldCo, and the Guarantor.', 'category': 'Financial Statements'}\n",
            "0.15304851531982422\n"
          ]
        }
      ]
    },
    {
      "cell_type": "code",
      "source": [
        "query_vector = [\"Each Obligor shall immediately advise the Lender in writing of any material actions, suits, litigation or other proceeding against it.\"]\n",
        "response = clauses.query.near_text(\n",
        "  query = query_vector, # your query vector goes here\n",
        "  limit=2,\n",
        "  return_metadata=wvc.query.MetadataQuery(distance=True)\n",
        ")\n",
        "\n",
        "for o in response.objects:\n",
        "  print(o.properties)\n",
        "  print(o.metadata.distance)"
      ],
      "metadata": {
        "colab": {
          "base_uri": "https://localhost:8080/"
        },
        "id": "6cpGNnWdquj3",
        "outputId": "07804fc8-94bc-4563-c2b1-7cc760431e3f"
      },
      "execution_count": 103,
      "outputs": [
        {
          "output_type": "stream",
          "name": "stdout",
          "text": [
            "{'clause': 'To promptly give notice in writing to Bank of any litigation pending or threatened against Borrower.', 'category': 'Litigations'}\n",
            "0.09342038631439209\n",
            "{'clause': 'The Borrower shall furnish a copy of this Guaranty to the Lender at the closing of the Loan.', 'category': 'Disclosures'}\n",
            "0.14185822010040283\n"
          ]
        }
      ]
    },
    {
      "cell_type": "code",
      "source": [
        "query_vector = [\"The Severance Benefit hereunder shall be reduced by all applicable income, employment or other taxes withheld by the Company from such payment.\"]\n",
        "response = clauses.query.near_text(\n",
        "  query = query_vector, # your query vector goes here\n",
        "  limit=1,\n",
        "  return_metadata=wvc.query.MetadataQuery(distance=True)\n",
        ")\n",
        "\n",
        "for o in response.objects:\n",
        "  print(o.properties)\n",
        "  print(o.metadata.distance)"
      ],
      "metadata": {
        "colab": {
          "base_uri": "https://localhost:8080/"
        },
        "id": "wDU_G6OprR7A",
        "outputId": "843546ce-db18-4b4c-b9f8-837a6c718761"
      },
      "execution_count": 104,
      "outputs": [
        {
          "output_type": "stream",
          "name": "stdout",
          "text": [
            "{'clause': 'The Company shall withhold from any payments any deductions required by law.', 'category': 'Withholdings'}\n",
            "0.1260209083557129\n"
          ]
        }
      ]
    },
    {
      "cell_type": "code",
      "source": [
        "query_vector = [\"No Event of Default or event that, with the giving of notice, the passage of time, or both, would be an Event of Default, has occurred.\"]\n",
        "response = clauses.query.near_text(\n",
        "  query = query_vector, # your query vector goes here\n",
        "  limit=1,\n",
        "  return_metadata=wvc.query.MetadataQuery(distance=True)\n",
        ")\n",
        "\n",
        "for o in response.objects:\n",
        "  print(o.properties)\n",
        "  print(o.metadata.distance)"
      ],
      "metadata": {
        "colab": {
          "base_uri": "https://localhost:8080/"
        },
        "id": "CbEpHk3Vrbvo",
        "outputId": "da1f9c00-d779-44d9-be46-b98f0c5336b0"
      },
      "execution_count": 105,
      "outputs": [
        {
          "output_type": "stream",
          "name": "stdout",
          "text": [
            "{'clause': 'Neither a Default nor an Event of Default shall have occurred and be continuing.', 'category': 'No Defaults'}\n",
            "0.10491824150085449\n"
          ]
        }
      ]
    },
    {
      "cell_type": "code",
      "source": [
        "query_vector = \"The law applicable to the arbitration of any dispute shall be the laws of the State of California, excluding its conflicts of law rules.\"\n",
        "response = clauses.query.near_text(\n",
        "  query = query_vector, # your query vector goes here\n",
        "  limit=2,\n",
        "  return_metadata=wvc.query.MetadataQuery(distance=True),\n",
        "  include_vector=True\n",
        ")\n",
        "\n",
        "for o in response.objects:\n",
        "  print(o.properties)\n",
        "  print(o.metadata.distance)\n",
        "  print(len(o.vector['default']))\n",
        "  print(o.vector['default'][0:5],\"...\")"
      ],
      "metadata": {
        "colab": {
          "base_uri": "https://localhost:8080/"
        },
        "id": "UKSPz_lIrh0i",
        "outputId": "04f05959-f30a-41fd-f23d-360935b89971"
      },
      "execution_count": 106,
      "outputs": [
        {
          "output_type": "stream",
          "name": "stdout",
          "text": [
            "{'clause': 'This Agreement shall be governed and construed in accordance with the laws of the State of Florida.', 'category': 'Applicable Laws'}\n",
            "0.13691699504852295\n",
            "1536\n",
            "[-0.012182137928903103, -0.008257864974439144, 0.012857840396463871, -0.03833312541246414, -0.027184033766388893] ...\n",
            "{'clause': 'THIS AGREEMENT SHALL BE GOVERNED BY THE LAWS OF THE STATE OF NEW YORK.', 'category': 'Governing Laws'}\n",
            "0.14608228206634521\n",
            "1536\n",
            "[0.0015277097700163722, -0.00395712535828352, 0.01654208078980446, -0.0295551847666502, -0.023094041272997856] ...\n"
          ]
        }
      ]
    },
    {
      "cell_type": "code",
      "source": [
        "query_vector = [\"This Amendment shall be effective December 8, 2015. Except as hereby amended, the Plan shall remain in full force and effect.\"]\n",
        "\n",
        "response = clauses.query.near_text(\n",
        "  query = query_vector, # your query vector goes here\n",
        "  limit=2,\n",
        "  return_metadata=wvc.query.MetadataQuery(distance=True),\n",
        "  include_vector=True\n",
        ")\n",
        "\n",
        "for o in response.objects:\n",
        "  print(o.properties)\n",
        "  print(o.metadata.distance)\n",
        "  print(len(o.vector['default']))\n",
        "  print(o.vector['default'][0:5],\"...\")"
      ],
      "metadata": {
        "colab": {
          "base_uri": "https://localhost:8080/"
        },
        "id": "etQFQ4qO1SUh",
        "outputId": "7135bf90-3678-43a3-f0e6-0b89bd5af577"
      },
      "execution_count": 107,
      "outputs": [
        {
          "output_type": "stream",
          "name": "stdout",
          "text": [
            "{'clause': 'The Plan shall be effective as of May 16, 2016 (the “ Effective Date ”).', 'category': 'Effectiveness'}\n",
            "0.11868143081665039\n",
            "1536\n",
            "[-0.035327132791280746, -0.01545395702123642, -0.024319017305970192, -0.024012867361307144, -0.007693700958043337] ...\n",
            "{'clause': 'This Amendment Number Six shall become effective as of June 26, 2015.', 'category': 'Effective Dates'}\n",
            "0.12051248550415039\n",
            "1536\n",
            "[-0.03562600910663605, -0.00480938283726573, -0.009920354932546616, -0.01681198552250862, -0.020046046003699303] ...\n"
          ]
        }
      ]
    },
    {
      "cell_type": "markdown",
      "source": [
        "# Generative search (single prompt)- Also called Retrieval Augmented Generation (RAG)\n",
        "\n",
        "1. Uses a multi-stage process.\n",
        "2. **First Weaviate performs a query, then it passes the retrieved results and a prompt to a large language model (LLM), to generate a new output.**\n",
        "3. Use search results as a prompt for an LLM.\n",
        "4. Prompts a large language model (LLM) with a combination of a user query as well as data retrieved from a database.\n",
        "5. LLM uses query results to perform a task that is based on our prompt\n"
      ],
      "metadata": {
        "id": "g2TYFvV0cdXi"
      }
    },
    {
      "cell_type": "code",
      "source": [
        "query_vector = [\"applicable law\"]\n",
        "\n",
        "prompt = \"Find similar clauses to this: {clause} and extract name of a State from the response and output State found None if no state found\"\n",
        "\n",
        "response = clauses.generate.near_text(\n",
        "  query = query_vector, # your query vector goes here\n",
        "  limit=5,\n",
        "  return_metadata=wvc.query.MetadataQuery(distance=True),\n",
        "  # include_vector=True, # retrieve the object vector also e.g. [-0.013081819750368595, -0.006620033644139767,...]\n",
        "  single_prompt=prompt,\n",
        "  target_vector=\"clause\",\n",
        ")"
      ],
      "metadata": {
        "id": "c3_-T-ABrzKm"
      },
      "execution_count": 97,
      "outputs": []
    },
    {
      "cell_type": "code",
      "source": [
        "for o in response.objects:\n",
        "  #print(o.properties)\n",
        "  print(o.metadata.distance)\n",
        "  print(o.generated)\n",
        "  print(o.vector)\n",
        "  print(\"\\n\")"
      ],
      "metadata": {
        "colab": {
          "base_uri": "https://localhost:8080/"
        },
        "id": "tEaMClNUd1DJ",
        "outputId": "1d759ab5-0f3c-4b09-edc8-a93534fec40a"
      },
      "execution_count": 98,
      "outputs": [
        {
          "output_type": "stream",
          "name": "stdout",
          "text": [
            "0.13241612911224365\n",
            "The laws of the jurisdiction in which the Property is situated shall apply to this Lease.\n",
            "\n",
            "State found: None\n",
            "{}\n",
            "\n",
            "\n",
            "0.13544130325317383\n",
            "This Agreement shall be governed by the laws of California.\n",
            "State found: California\n",
            "{}\n",
            "\n",
            "\n",
            "0.13693416118621826\n",
            "For purposes of this Section 4.02 , the term “regulatory requirements” or “regulatory standards” includes GDPR.\n",
            "\n",
            "State found: None\n",
            "{}\n",
            "\n",
            "\n",
            "0.13982510566711426\n",
            "This Agreement shall be governed and construed in accordance with the laws of the State of California.\n",
            "\n",
            "State found: California\n",
            "{}\n",
            "\n",
            "\n",
            "0.13990384340286255\n",
            "The Agreement and this provision shall be interpreted in accordance with the laws of the State of California.\n",
            "\n",
            "State found: California\n",
            "{}\n",
            "\n",
            "\n"
          ]
        }
      ]
    },
    {
      "cell_type": "markdown",
      "source": [
        "# Keyword search\n",
        "Keyword search, also called \"BM25 (Best match 25)\" or \"sparse vector\"  returns objects that have the highest BM25F scores."
      ],
      "metadata": {
        "id": "hNgBkr2Lrhas"
      }
    },
    {
      "cell_type": "code",
      "source": [
        "response = clauses.query.bm25(\n",
        "    query=\"annualized\",\n",
        "    # Search on selected properties only and You can weight how much each property affects the overall BM25F score\n",
        "    # This example boosts the clause property by a factor of 2 while the category property remains static.\n",
        "    query_properties=[\"clause^2\", \"category\"],\n",
        "    limit=5,                                                          # Top n results\n",
        "    return_metadata=wvc.query.MetadataQuery(distance=True)            # OPTIONAL\n",
        ")"
      ],
      "metadata": {
        "id": "PLc9mMYXfTuJ"
      },
      "execution_count": 117,
      "outputs": []
    },
    {
      "cell_type": "code",
      "source": [
        "for o in response.objects:\n",
        "  print(o.properties)\n",
        "  print(o.metadata.distance)"
      ],
      "metadata": {
        "colab": {
          "base_uri": "https://localhost:8080/"
        },
        "id": "10k-Ai3lfTxM",
        "outputId": "95c8a261-604d-4a98-91fa-87066692a23b"
      },
      "execution_count": 118,
      "outputs": [
        {
          "output_type": "stream",
          "name": "stdout",
          "text": [
            "{'clause': 'Your base salary will be: $27,884,62 biweekly ($725,000 annualized).', 'category': 'Base Salary'}\n",
            "None\n",
            "{'clause': 'Your starting base annualized salary will be $400,000, paid on a bi-weekly basis.', 'category': 'Base Salary'}\n",
            "None\n"
          ]
        }
      ]
    },
    {
      "cell_type": "code",
      "source": [],
      "metadata": {
        "id": "GMjMEpAC4Ma8"
      },
      "execution_count": null,
      "outputs": []
    },
    {
      "cell_type": "markdown",
      "source": [],
      "metadata": {
        "id": "DLCTwlESrf5p"
      }
    }
  ]
}