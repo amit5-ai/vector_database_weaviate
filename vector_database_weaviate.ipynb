{
  "nbformat": 4,
  "nbformat_minor": 0,
  "metadata": {
    "colab": {
      "provenance": [],
      "collapsed_sections": [
        "u-_5R8_xfAsE",
        "yRaEnD-4eYc6",
        "DA4XyN69ezfW",
        "Ow8LYPgaZPmw",
        "wDbzu3ecZS46",
        "hNgBkr2Lrhas"
      ],
      "authorship_tag": "ABX9TyNI9eP/JwpXsr3MBoYNqu6F"
    },
    "kernelspec": {
      "name": "python3",
      "display_name": "Python 3"
    },
    "language_info": {
      "name": "python"
    }
  },
  "cells": [
    {
      "cell_type": "code",
      "source": [
        "! pip install sentence_transformers\n",
        "import pandas as pd\n",
        "import numpy as np"
      ],
      "metadata": {
        "id": "FD2cJm53UAOZ"
      },
      "execution_count": 23,
      "outputs": []
    },
    {
      "cell_type": "code",
      "execution_count": 24,
      "metadata": {
        "id": "RkLxt0NsT4ew"
      },
      "outputs": [],
      "source": [
        "from sentence_transformers import SentenceTransformer\n",
        "model = SentenceTransformer('paraphrase-MiniLM-L6-v2')"
      ]
    },
    {
      "cell_type": "code",
      "source": [
        "# ! pip install \"weaviate-client==3.*\"\n",
        "! pip install -U weaviate-client"
      ],
      "metadata": {
        "id": "m5EL5HCPU5oe"
      },
      "execution_count": 25,
      "outputs": []
    },
    {
      "cell_type": "code",
      "source": [
        "import weaviate\n",
        "import weaviate.classes as wvc\n",
        "import pandas as pd\n",
        "import json"
      ],
      "metadata": {
        "id": "vYnAWJaGiJBC"
      },
      "execution_count": 27,
      "outputs": []
    },
    {
      "cell_type": "code",
      "source": [
        "f = open(\"/content/sample_data/WCS_CLUSTER_URL.txt\", \"r\")\n",
        "WCS_CLUSTER_URL = f.read()\n",
        "# print(WCS_CLUSTER_URL)\n",
        "\n",
        "f = open(\"/content/sample_data/WCS_DEMO_RO_KEY.txt\", \"r\")\n",
        "WCS_DEMO_RO_KEY = f.read()\n",
        "# print(WCS_DEMO_RO_KEY)\n",
        "\n",
        "f = open(\"/content/sample_data/OPENAI_API_KEY.txt\", \"r\")\n",
        "openai_api_key = f.read()\n",
        "# print(openai_api_key)"
      ],
      "metadata": {
        "id": "NJIVUxREWcEF"
      },
      "execution_count": 26,
      "outputs": []
    },
    {
      "cell_type": "markdown",
      "source": [
        "# Make client connnection with weaviate cloud cluster"
      ],
      "metadata": {
        "id": "Feklepq-F9zM"
      }
    },
    {
      "cell_type": "code",
      "source": [
        "client = weaviate.connect_to_wcs(\n",
        "    cluster_url= WCS_CLUSTER_URL, # \"https://some-endpoint.weaviate.network/\",  # Replace with your endpoint\n",
        "    auth_credentials =  weaviate.auth.AuthApiKey(api_key=WCS_DEMO_RO_KEY),  # Replace w/ your Weaviate instance API key\n",
        "    headers = {\n",
        "        \"X-OpenAI-Api-Key\": openai_api_key  # Replace with your inference API key\n",
        "    }\n",
        ")\n",
        "\n",
        "print(client.is_ready())"
      ],
      "metadata": {
        "colab": {
          "base_uri": "https://localhost:8080/"
        },
        "id": "QDD7oHL0VhTh",
        "outputId": "33774e03-d1cc-4eca-ebe8-d4a3ef8c1989"
      },
      "execution_count": 30,
      "outputs": [
        {
          "output_type": "stream",
          "name": "stdout",
          "text": [
            "True\n"
          ]
        }
      ]
    },
    {
      "cell_type": "markdown",
      "source": [
        "# Vector similarity measure"
      ],
      "metadata": {
        "id": "u-_5R8_xfAsE"
      }
    },
    {
      "cell_type": "code",
      "source": [
        "#Sentences we want to encode. Example:\n",
        "sentence = ['The team enjoyed the hike through the meadow',\n",
        "            'The national park had great views',\n",
        "            'Olive oil drizzled over pizza tastes delicious']"
      ],
      "metadata": {
        "id": "1Q-fwjFcT8W4"
      },
      "execution_count": 3,
      "outputs": []
    },
    {
      "cell_type": "code",
      "source": [
        "#Sentences are encoded by calling model.encode()\n",
        "embedding = model.encode(sentence)\n",
        "\n",
        "#Preview the embeddings\n",
        "print(embedding)"
      ],
      "metadata": {
        "colab": {
          "base_uri": "https://localhost:8080/"
        },
        "id": "aD-vVrY_USaZ",
        "outputId": "8f68d1e6-a7ea-48ea-b00d-1f089002efc2"
      },
      "execution_count": 4,
      "outputs": [
        {
          "output_type": "stream",
          "name": "stdout",
          "text": [
            "[[ 0.37061968  0.26414266  0.21265659 ...  0.14994559 -0.25794914\n",
            "  -0.23970744]\n",
            " [ 0.6693328   0.40094966 -0.48208374 ...  0.10645917 -1.506716\n",
            "  -0.01547341]\n",
            " [-0.26555893  0.11172437 -0.14733039 ...  0.4219748   0.883946\n",
            "   0.10763916]]\n"
          ]
        }
      ]
    },
    {
      "cell_type": "code",
      "source": [
        "embedding.shape"
      ],
      "metadata": {
        "colab": {
          "base_uri": "https://localhost:8080/"
        },
        "id": "wacQJhgqUTzA",
        "outputId": "b2b88ba0-79a3-416c-e9bb-3a92e0efb1ba"
      },
      "execution_count": 5,
      "outputs": [
        {
          "output_type": "execute_result",
          "data": {
            "text/plain": [
              "(3, 384)"
            ]
          },
          "metadata": {},
          "execution_count": 5
        }
      ]
    },
    {
      "cell_type": "code",
      "source": [
        "# Cosine Distance function\n",
        "def cosine_distance(vec1,vec2):\n",
        "  cosine = 1 - (np.dot(vec1, vec2)/(np.linalg.norm(vec1)*np.linalg.norm(vec2)))\n",
        "  return cosine\n",
        "\n",
        "# Similar vectors will have SMALLER angle between them"
      ],
      "metadata": {
        "id": "mp-SgBM7UmSL"
      },
      "execution_count": 6,
      "outputs": []
    },
    {
      "cell_type": "code",
      "source": [
        "#Cosine Distance\n",
        "\n",
        "# embedding0 - 'The team enjoyed the hike through the meadow'\n",
        "# embedding1 - The national park had great views'\n",
        "# embedding2 - 'Olive oil drizzled over pizza tastes delicious'\n",
        "\n",
        "print(\"Distance 0-1: \", cosine_distance(embedding[0], embedding[1])) # Least angle\n",
        "print(\"Distance 0-2: \", cosine_distance(embedding[0], embedding[2]))\n",
        "print(\"Distance 1-2: \", cosine_distance(embedding[1], embedding[2]))"
      ],
      "metadata": {
        "colab": {
          "base_uri": "https://localhost:8080/"
        },
        "id": "DNyF-ZStVJ_F",
        "outputId": "dfd28876-e312-4faa-88fc-91b01b381dca"
      },
      "execution_count": 7,
      "outputs": [
        {
          "output_type": "stream",
          "name": "stdout",
          "text": [
            "Distance 0-1:  0.5350335240364075\n",
            "Distance 0-2:  0.9639393426477909\n",
            "Distance 1-2:  0.9288790747523308\n"
          ]
        }
      ]
    },
    {
      "cell_type": "markdown",
      "source": [
        "# Create new vector database collection\n"
      ],
      "metadata": {
        "id": "yRaEnD-4eYc6"
      }
    },
    {
      "cell_type": "code",
      "source": [
        "# client.collections.delete(\"Clause\")"
      ],
      "metadata": {
        "id": "XHgp6xPAjet7"
      },
      "execution_count": null,
      "outputs": []
    },
    {
      "cell_type": "code",
      "source": [
        "# Create collection - 1st time only\n",
        "\n",
        "# clauses = client.collections.create(\n",
        "#         name=\"Clause\",\n",
        "#         vectorizer_config=wvc.config.Configure.Vectorizer.text2vec_openai(),  # If set to \"none\" you must always provide vectors yourself. Could be any other \"text2vec-*\" also.\n",
        "#         generative_config=wvc.config.Configure.Generative.openai()  # Ensure the `generative-openai` module is used for generative queries\n",
        "#     )"
      ],
      "metadata": {
        "id": "rF-p_lPJqXFr"
      },
      "execution_count": null,
      "outputs": []
    },
    {
      "cell_type": "markdown",
      "source": [
        "# Read legal clauses to upload to vector database collection"
      ],
      "metadata": {
        "id": "DA4XyN69ezfW"
      }
    },
    {
      "cell_type": "code",
      "source": [
        "# train_data = pd.read_csv('/content/sample_data/all_short_clauses_train.csv') ## .head(5)"
      ],
      "metadata": {
        "id": "PXa__JQ_ZZRM"
      },
      "execution_count": null,
      "outputs": []
    },
    {
      "cell_type": "code",
      "source": [
        "# train_data.head()"
      ],
      "metadata": {
        "colab": {
          "base_uri": "https://localhost:8080/",
          "height": 206
        },
        "id": "9hMg0sjfennR",
        "outputId": "8fbdbe27-ecd3-4962-91c9-48dded09d0f3"
      },
      "execution_count": null,
      "outputs": [
        {
          "output_type": "execute_result",
          "data": {
            "text/plain": [
              "                                              clause category\n",
              "0  This Release may be amended, only upon a writt...  Waivers\n",
              "1  Neither the Borrower nor Pangaea maintains any...    Erisa\n",
              "2  The Employee Retirement Income Act of 1974, as...    Erisa\n",
              "3  [ . No Obligor or Subsidiary has any Multiempl...    Erisa\n",
              "4  Seller shall violate the representations and w...    Erisa"
            ],
            "text/html": [
              "\n",
              "  <div id=\"df-0403c410-014c-48c3-b2f0-4185295221db\" class=\"colab-df-container\">\n",
              "    <div>\n",
              "<style scoped>\n",
              "    .dataframe tbody tr th:only-of-type {\n",
              "        vertical-align: middle;\n",
              "    }\n",
              "\n",
              "    .dataframe tbody tr th {\n",
              "        vertical-align: top;\n",
              "    }\n",
              "\n",
              "    .dataframe thead th {\n",
              "        text-align: right;\n",
              "    }\n",
              "</style>\n",
              "<table border=\"1\" class=\"dataframe\">\n",
              "  <thead>\n",
              "    <tr style=\"text-align: right;\">\n",
              "      <th></th>\n",
              "      <th>clause</th>\n",
              "      <th>category</th>\n",
              "    </tr>\n",
              "  </thead>\n",
              "  <tbody>\n",
              "    <tr>\n",
              "      <th>0</th>\n",
              "      <td>This Release may be amended, only upon a writt...</td>\n",
              "      <td>Waivers</td>\n",
              "    </tr>\n",
              "    <tr>\n",
              "      <th>1</th>\n",
              "      <td>Neither the Borrower nor Pangaea maintains any...</td>\n",
              "      <td>Erisa</td>\n",
              "    </tr>\n",
              "    <tr>\n",
              "      <th>2</th>\n",
              "      <td>The Employee Retirement Income Act of 1974, as...</td>\n",
              "      <td>Erisa</td>\n",
              "    </tr>\n",
              "    <tr>\n",
              "      <th>3</th>\n",
              "      <td>[ . No Obligor or Subsidiary has any Multiempl...</td>\n",
              "      <td>Erisa</td>\n",
              "    </tr>\n",
              "    <tr>\n",
              "      <th>4</th>\n",
              "      <td>Seller shall violate the representations and w...</td>\n",
              "      <td>Erisa</td>\n",
              "    </tr>\n",
              "  </tbody>\n",
              "</table>\n",
              "</div>\n",
              "    <div class=\"colab-df-buttons\">\n",
              "\n",
              "  <div class=\"colab-df-container\">\n",
              "    <button class=\"colab-df-convert\" onclick=\"convertToInteractive('df-0403c410-014c-48c3-b2f0-4185295221db')\"\n",
              "            title=\"Convert this dataframe to an interactive table.\"\n",
              "            style=\"display:none;\">\n",
              "\n",
              "  <svg xmlns=\"http://www.w3.org/2000/svg\" height=\"24px\" viewBox=\"0 -960 960 960\">\n",
              "    <path d=\"M120-120v-720h720v720H120Zm60-500h600v-160H180v160Zm220 220h160v-160H400v160Zm0 220h160v-160H400v160ZM180-400h160v-160H180v160Zm440 0h160v-160H620v160ZM180-180h160v-160H180v160Zm440 0h160v-160H620v160Z\"/>\n",
              "  </svg>\n",
              "    </button>\n",
              "\n",
              "  <style>\n",
              "    .colab-df-container {\n",
              "      display:flex;\n",
              "      gap: 12px;\n",
              "    }\n",
              "\n",
              "    .colab-df-convert {\n",
              "      background-color: #E8F0FE;\n",
              "      border: none;\n",
              "      border-radius: 50%;\n",
              "      cursor: pointer;\n",
              "      display: none;\n",
              "      fill: #1967D2;\n",
              "      height: 32px;\n",
              "      padding: 0 0 0 0;\n",
              "      width: 32px;\n",
              "    }\n",
              "\n",
              "    .colab-df-convert:hover {\n",
              "      background-color: #E2EBFA;\n",
              "      box-shadow: 0px 1px 2px rgba(60, 64, 67, 0.3), 0px 1px 3px 1px rgba(60, 64, 67, 0.15);\n",
              "      fill: #174EA6;\n",
              "    }\n",
              "\n",
              "    .colab-df-buttons div {\n",
              "      margin-bottom: 4px;\n",
              "    }\n",
              "\n",
              "    [theme=dark] .colab-df-convert {\n",
              "      background-color: #3B4455;\n",
              "      fill: #D2E3FC;\n",
              "    }\n",
              "\n",
              "    [theme=dark] .colab-df-convert:hover {\n",
              "      background-color: #434B5C;\n",
              "      box-shadow: 0px 1px 3px 1px rgba(0, 0, 0, 0.15);\n",
              "      filter: drop-shadow(0px 1px 2px rgba(0, 0, 0, 0.3));\n",
              "      fill: #FFFFFF;\n",
              "    }\n",
              "  </style>\n",
              "\n",
              "    <script>\n",
              "      const buttonEl =\n",
              "        document.querySelector('#df-0403c410-014c-48c3-b2f0-4185295221db button.colab-df-convert');\n",
              "      buttonEl.style.display =\n",
              "        google.colab.kernel.accessAllowed ? 'block' : 'none';\n",
              "\n",
              "      async function convertToInteractive(key) {\n",
              "        const element = document.querySelector('#df-0403c410-014c-48c3-b2f0-4185295221db');\n",
              "        const dataTable =\n",
              "          await google.colab.kernel.invokeFunction('convertToInteractive',\n",
              "                                                    [key], {});\n",
              "        if (!dataTable) return;\n",
              "\n",
              "        const docLinkHtml = 'Like what you see? Visit the ' +\n",
              "          '<a target=\"_blank\" href=https://colab.research.google.com/notebooks/data_table.ipynb>data table notebook</a>'\n",
              "          + ' to learn more about interactive tables.';\n",
              "        element.innerHTML = '';\n",
              "        dataTable['output_type'] = 'display_data';\n",
              "        await google.colab.output.renderOutput(dataTable, element);\n",
              "        const docLink = document.createElement('div');\n",
              "        docLink.innerHTML = docLinkHtml;\n",
              "        element.appendChild(docLink);\n",
              "      }\n",
              "    </script>\n",
              "  </div>\n",
              "\n",
              "\n",
              "<div id=\"df-2bfe0363-66d6-4d77-b5dc-c981f77c4f83\">\n",
              "  <button class=\"colab-df-quickchart\" onclick=\"quickchart('df-2bfe0363-66d6-4d77-b5dc-c981f77c4f83')\"\n",
              "            title=\"Suggest charts\"\n",
              "            style=\"display:none;\">\n",
              "\n",
              "<svg xmlns=\"http://www.w3.org/2000/svg\" height=\"24px\"viewBox=\"0 0 24 24\"\n",
              "     width=\"24px\">\n",
              "    <g>\n",
              "        <path d=\"M19 3H5c-1.1 0-2 .9-2 2v14c0 1.1.9 2 2 2h14c1.1 0 2-.9 2-2V5c0-1.1-.9-2-2-2zM9 17H7v-7h2v7zm4 0h-2V7h2v10zm4 0h-2v-4h2v4z\"/>\n",
              "    </g>\n",
              "</svg>\n",
              "  </button>\n",
              "\n",
              "<style>\n",
              "  .colab-df-quickchart {\n",
              "      --bg-color: #E8F0FE;\n",
              "      --fill-color: #1967D2;\n",
              "      --hover-bg-color: #E2EBFA;\n",
              "      --hover-fill-color: #174EA6;\n",
              "      --disabled-fill-color: #AAA;\n",
              "      --disabled-bg-color: #DDD;\n",
              "  }\n",
              "\n",
              "  [theme=dark] .colab-df-quickchart {\n",
              "      --bg-color: #3B4455;\n",
              "      --fill-color: #D2E3FC;\n",
              "      --hover-bg-color: #434B5C;\n",
              "      --hover-fill-color: #FFFFFF;\n",
              "      --disabled-bg-color: #3B4455;\n",
              "      --disabled-fill-color: #666;\n",
              "  }\n",
              "\n",
              "  .colab-df-quickchart {\n",
              "    background-color: var(--bg-color);\n",
              "    border: none;\n",
              "    border-radius: 50%;\n",
              "    cursor: pointer;\n",
              "    display: none;\n",
              "    fill: var(--fill-color);\n",
              "    height: 32px;\n",
              "    padding: 0;\n",
              "    width: 32px;\n",
              "  }\n",
              "\n",
              "  .colab-df-quickchart:hover {\n",
              "    background-color: var(--hover-bg-color);\n",
              "    box-shadow: 0 1px 2px rgba(60, 64, 67, 0.3), 0 1px 3px 1px rgba(60, 64, 67, 0.15);\n",
              "    fill: var(--button-hover-fill-color);\n",
              "  }\n",
              "\n",
              "  .colab-df-quickchart-complete:disabled,\n",
              "  .colab-df-quickchart-complete:disabled:hover {\n",
              "    background-color: var(--disabled-bg-color);\n",
              "    fill: var(--disabled-fill-color);\n",
              "    box-shadow: none;\n",
              "  }\n",
              "\n",
              "  .colab-df-spinner {\n",
              "    border: 2px solid var(--fill-color);\n",
              "    border-color: transparent;\n",
              "    border-bottom-color: var(--fill-color);\n",
              "    animation:\n",
              "      spin 1s steps(1) infinite;\n",
              "  }\n",
              "\n",
              "  @keyframes spin {\n",
              "    0% {\n",
              "      border-color: transparent;\n",
              "      border-bottom-color: var(--fill-color);\n",
              "      border-left-color: var(--fill-color);\n",
              "    }\n",
              "    20% {\n",
              "      border-color: transparent;\n",
              "      border-left-color: var(--fill-color);\n",
              "      border-top-color: var(--fill-color);\n",
              "    }\n",
              "    30% {\n",
              "      border-color: transparent;\n",
              "      border-left-color: var(--fill-color);\n",
              "      border-top-color: var(--fill-color);\n",
              "      border-right-color: var(--fill-color);\n",
              "    }\n",
              "    40% {\n",
              "      border-color: transparent;\n",
              "      border-right-color: var(--fill-color);\n",
              "      border-top-color: var(--fill-color);\n",
              "    }\n",
              "    60% {\n",
              "      border-color: transparent;\n",
              "      border-right-color: var(--fill-color);\n",
              "    }\n",
              "    80% {\n",
              "      border-color: transparent;\n",
              "      border-right-color: var(--fill-color);\n",
              "      border-bottom-color: var(--fill-color);\n",
              "    }\n",
              "    90% {\n",
              "      border-color: transparent;\n",
              "      border-bottom-color: var(--fill-color);\n",
              "    }\n",
              "  }\n",
              "</style>\n",
              "\n",
              "  <script>\n",
              "    async function quickchart(key) {\n",
              "      const quickchartButtonEl =\n",
              "        document.querySelector('#' + key + ' button');\n",
              "      quickchartButtonEl.disabled = true;  // To prevent multiple clicks.\n",
              "      quickchartButtonEl.classList.add('colab-df-spinner');\n",
              "      try {\n",
              "        const charts = await google.colab.kernel.invokeFunction(\n",
              "            'suggestCharts', [key], {});\n",
              "      } catch (error) {\n",
              "        console.error('Error during call to suggestCharts:', error);\n",
              "      }\n",
              "      quickchartButtonEl.classList.remove('colab-df-spinner');\n",
              "      quickchartButtonEl.classList.add('colab-df-quickchart-complete');\n",
              "    }\n",
              "    (() => {\n",
              "      let quickchartButtonEl =\n",
              "        document.querySelector('#df-2bfe0363-66d6-4d77-b5dc-c981f77c4f83 button');\n",
              "      quickchartButtonEl.style.display =\n",
              "        google.colab.kernel.accessAllowed ? 'block' : 'none';\n",
              "    })();\n",
              "  </script>\n",
              "</div>\n",
              "\n",
              "    </div>\n",
              "  </div>\n"
            ],
            "application/vnd.google.colaboratory.intrinsic+json": {
              "type": "dataframe",
              "variable_name": "train_data",
              "summary": "{\n  \"name\": \"train_data\",\n  \"rows\": 339,\n  \"fields\": [\n    {\n      \"column\": \"clause\",\n      \"properties\": {\n        \"dtype\": \"string\",\n        \"num_unique_values\": 339,\n        \"samples\": [\n          \"This Fifth Amended and Restated Credit Agreement, including the Schedules and Exhibits hereto.\",\n          \"All amounts payable under this Agreement will be subject to withholdings as required by law.\",\n          \"GP represents and warrants to the Company as set forth below.\"\n        ],\n        \"semantic_type\": \"\",\n        \"description\": \"\"\n      }\n    },\n    {\n      \"column\": \"category\",\n      \"properties\": {\n        \"dtype\": \"category\",\n        \"num_unique_values\": 85,\n        \"samples\": [\n          \"Effectiveness\",\n          \"Waivers\",\n          \"Liens\"\n        ],\n        \"semantic_type\": \"\",\n        \"description\": \"\"\n      }\n    }\n  ]\n}"
            }
          },
          "metadata": {},
          "execution_count": 23
        }
      ]
    },
    {
      "cell_type": "markdown",
      "source": [
        "This Release may be amended, only upon a writt...\tWaivers\n",
        "\n",
        "Neither the Borrower nor Pangaea maintains any...\tErisa\n",
        "\n",
        "The Employee Retirement Income Act of 1974, as...\tErisa\n",
        "\n",
        "No Obligor or Subsidiary has any Multiempl...\tErisa\n",
        "\n",
        "Seller shall violate the representations and w...\tErisa"
      ],
      "metadata": {
        "id": "Vk0GSGyJfhFx"
      }
    },
    {
      "cell_type": "code",
      "source": [
        "# train_data.shape # (339, 2)"
      ],
      "metadata": {
        "id": "3YagTFmQoLl-"
      },
      "execution_count": 29,
      "outputs": []
    },
    {
      "cell_type": "code",
      "source": [
        "## Insert into Create collection - 1st time only\n",
        "# clause_objs = list()\n",
        "# for i, row in train_data.iterrows():\n",
        "#   print(i,\"th clause inserted\")\n",
        "#   clause_objs.append({\n",
        "#       \"clause\": row[\"clause\"],\n",
        "#       \"category\": row[\"category\"],\n",
        "#   })\n",
        "\n",
        "# clauses = client.collections.get(\"Clause\")\n",
        "# clauses.data.insert_many(clause_objs)  # This uses batching under the hood"
      ],
      "metadata": {
        "id": "_N0PHJElZEMT"
      },
      "execution_count": 28,
      "outputs": []
    },
    {
      "cell_type": "markdown",
      "source": [
        "# Get pre-created collection"
      ],
      "metadata": {
        "id": "Ow8LYPgaZPmw"
      }
    },
    {
      "cell_type": "code",
      "source": [
        "clauses = client.collections.get(\"Clause\")"
      ],
      "metadata": {
        "id": "ry8QHzDRY9lX"
      },
      "execution_count": 31,
      "outputs": []
    },
    {
      "cell_type": "markdown",
      "source": [
        "# Semantic search"
      ],
      "metadata": {
        "id": "wDbzu3ecZS46"
      }
    },
    {
      "cell_type": "code",
      "source": [
        "# A nearText search looks for objects in Weaviate whose vectors are most similar to the vector for the given input text.\n",
        "# Use the Near Text operator to find objects with the nearest vector to an input text.\n",
        "\n",
        "# If you have an object ID, use the Near Object operator to find similar objects to that object.\n",
        "# near_object=\"56b9449e-65db-5df4-887b-0a4773f52aa7\",\n",
        "\n",
        "# If you have an input vector, use the Near Vector operator to find objects with similar vectors\n",
        "# near_vector=query_vector, # your query vector goes here\n",
        "\n",
        "# To set a similarity threshold between the search and target vectors, define a maximum distance (or certainty).\n",
        "# distance=0.18, # max accepted distance\n",
        "\n",
        "response = clauses.query.near_text(\n",
        "    query=\"salary\",\n",
        "    limit=1,                                                          # Top n results\n",
        "    filters=wvc.query.Filter.by_property(\"category\").equal(\"Taxes\"),  # OPTIONAL\n",
        "    return_metadata=wvc.query.MetadataQuery(distance=True)            # OPTIONAL\n",
        ")"
      ],
      "metadata": {
        "id": "LBqEGyZ0b9wy"
      },
      "execution_count": 99,
      "outputs": []
    },
    {
      "cell_type": "code",
      "source": [
        "for o in response.objects:\n",
        "        print(o.properties)\n",
        "        print(o.metadata.distance)"
      ],
      "metadata": {
        "colab": {
          "base_uri": "https://localhost:8080/"
        },
        "id": "XaK0fmzFesIG",
        "outputId": "fd89cbc8-6d79-4a25-ae86-e09da4b3901c"
      },
      "execution_count": 100,
      "outputs": [
        {
          "output_type": "stream",
          "name": "stdout",
          "text": [
            "{'clause': 'All payments under this Agreement shall be subject to applicable tax withholding.', 'category': 'Taxes'}\n",
            "0.21400493383407593\n"
          ]
        }
      ]
    },
    {
      "cell_type": "markdown",
      "source": [
        "### Classification using Semantic search - Get classes of vectors most similar to new vector NOT stored in vector db"
      ],
      "metadata": {
        "id": "XPuOdPyJcJpF"
      }
    },
    {
      "cell_type": "code",
      "source": [
        "query_vector = [\"An instrument certifying that Seller’s representations and warranties set forth in Section 8 above are true and correct as of the Closing Date\"]\n",
        "response = clauses.query.near_text(\n",
        "  query = query_vector, # your query vector goes here\n",
        "  limit=2,\n",
        "  return_metadata=wvc.query.MetadataQuery(distance=True)\n",
        ")\n",
        "\n",
        "for o in response.objects:\n",
        "  print(o.properties)\n",
        "  print(o.metadata.distance)"
      ],
      "metadata": {
        "colab": {
          "base_uri": "https://localhost:8080/"
        },
        "id": "uqzYOa_YezhN",
        "outputId": "da15ffbc-da06-41b2-eb6f-48721c46be2e"
      },
      "execution_count": 101,
      "outputs": [
        {
          "output_type": "stream",
          "name": "stdout",
          "text": [
            "{'clause': 'All of the representations and warranties contained herein shall survive the Closing Dates.', 'category': 'Warranties'}\n",
            "0.14580261707305908\n",
            "{'clause': 'The representations and warranties of the Sellers to the Buyer are as set forth in this Section 4.', 'category': 'Representations'}\n",
            "0.15560179948806763\n"
          ]
        }
      ]
    },
    {
      "cell_type": "code",
      "source": [
        "query_vector = [\"The Holders shall have received the Company’s draft internally prepared financial statements for the fiscal quarter ended June 30, 2016.\"]\n",
        "response = clauses.query.near_text(\n",
        "  query = query_vector, # your query vector goes here\n",
        "  limit=2,\n",
        "  return_metadata=wvc.query.MetadataQuery(distance=True)\n",
        ")\n",
        "\n",
        "for o in response.objects:\n",
        "  print(o.properties)\n",
        "  print(o.metadata.distance)"
      ],
      "metadata": {
        "colab": {
          "base_uri": "https://localhost:8080/"
        },
        "id": "iPz7fU9VpA5a",
        "outputId": "84a05ce5-efaf-4fb4-93ea-da1476ba92f5"
      },
      "execution_count": 102,
      "outputs": [
        {
          "output_type": "stream",
          "name": "stdout",
          "text": [
            "{'clause': 'The DIP Agent shall have received the financial statements described in Section\\xa03.04(a).', 'category': 'Financial Statements'}\n",
            "0.13827496767044067\n",
            "{'clause': 'A copy of the Original Financial Statements of each Borrower, HoldCo, and the Guarantor.', 'category': 'Financial Statements'}\n",
            "0.15304851531982422\n"
          ]
        }
      ]
    },
    {
      "cell_type": "code",
      "source": [
        "query_vector = [\"Each Obligor shall immediately advise the Lender in writing of any material actions, suits, litigation or other proceeding against it.\"]\n",
        "response = clauses.query.near_text(\n",
        "  query = query_vector, # your query vector goes here\n",
        "  limit=2,\n",
        "  return_metadata=wvc.query.MetadataQuery(distance=True)\n",
        ")\n",
        "\n",
        "for o in response.objects:\n",
        "  print(o.properties)\n",
        "  print(o.metadata.distance)"
      ],
      "metadata": {
        "colab": {
          "base_uri": "https://localhost:8080/"
        },
        "id": "6cpGNnWdquj3",
        "outputId": "07804fc8-94bc-4563-c2b1-7cc760431e3f"
      },
      "execution_count": 103,
      "outputs": [
        {
          "output_type": "stream",
          "name": "stdout",
          "text": [
            "{'clause': 'To promptly give notice in writing to Bank of any litigation pending or threatened against Borrower.', 'category': 'Litigations'}\n",
            "0.09342038631439209\n",
            "{'clause': 'The Borrower shall furnish a copy of this Guaranty to the Lender at the closing of the Loan.', 'category': 'Disclosures'}\n",
            "0.14185822010040283\n"
          ]
        }
      ]
    },
    {
      "cell_type": "code",
      "source": [
        "query_vector = [\"The Severance Benefit hereunder shall be reduced by all applicable income, employment or other taxes withheld by the Company from such payment.\"]\n",
        "response = clauses.query.near_text(\n",
        "  query = query_vector, # your query vector goes here\n",
        "  limit=1,\n",
        "  return_metadata=wvc.query.MetadataQuery(distance=True)\n",
        ")\n",
        "\n",
        "for o in response.objects:\n",
        "  print(o.properties)\n",
        "  print(o.metadata.distance)"
      ],
      "metadata": {
        "colab": {
          "base_uri": "https://localhost:8080/"
        },
        "id": "wDU_G6OprR7A",
        "outputId": "843546ce-db18-4b4c-b9f8-837a6c718761"
      },
      "execution_count": 104,
      "outputs": [
        {
          "output_type": "stream",
          "name": "stdout",
          "text": [
            "{'clause': 'The Company shall withhold from any payments any deductions required by law.', 'category': 'Withholdings'}\n",
            "0.1260209083557129\n"
          ]
        }
      ]
    },
    {
      "cell_type": "code",
      "source": [
        "query_vector = [\"No Event of Default or event that, with the giving of notice, the passage of time, or both, would be an Event of Default, has occurred.\"]\n",
        "response = clauses.query.near_text(\n",
        "  query = query_vector, # your query vector goes here\n",
        "  limit=1,\n",
        "  return_metadata=wvc.query.MetadataQuery(distance=True)\n",
        ")\n",
        "\n",
        "for o in response.objects:\n",
        "  print(o.properties)\n",
        "  print(o.metadata.distance)"
      ],
      "metadata": {
        "colab": {
          "base_uri": "https://localhost:8080/"
        },
        "id": "CbEpHk3Vrbvo",
        "outputId": "da1f9c00-d779-44d9-be46-b98f0c5336b0"
      },
      "execution_count": 105,
      "outputs": [
        {
          "output_type": "stream",
          "name": "stdout",
          "text": [
            "{'clause': 'Neither a Default nor an Event of Default shall have occurred and be continuing.', 'category': 'No Defaults'}\n",
            "0.10491824150085449\n"
          ]
        }
      ]
    },
    {
      "cell_type": "code",
      "source": [
        "query_vector = \"The law applicable to the arbitration of any dispute shall be the laws of the State of California, excluding its conflicts of law rules.\"\n",
        "response = clauses.query.near_text(\n",
        "  query = query_vector, # your query vector goes here\n",
        "  limit=2,\n",
        "  return_metadata=wvc.query.MetadataQuery(distance=True),\n",
        "  include_vector=True\n",
        ")\n",
        "\n",
        "for o in response.objects:\n",
        "  print(o.properties)\n",
        "  print(o.metadata.distance)\n",
        "  print(len(o.vector['default']))\n",
        "  print(o.vector['default'][0:5],\"...\")"
      ],
      "metadata": {
        "colab": {
          "base_uri": "https://localhost:8080/"
        },
        "id": "UKSPz_lIrh0i",
        "outputId": "04f05959-f30a-41fd-f23d-360935b89971"
      },
      "execution_count": 106,
      "outputs": [
        {
          "output_type": "stream",
          "name": "stdout",
          "text": [
            "{'clause': 'This Agreement shall be governed and construed in accordance with the laws of the State of Florida.', 'category': 'Applicable Laws'}\n",
            "0.13691699504852295\n",
            "1536\n",
            "[-0.012182137928903103, -0.008257864974439144, 0.012857840396463871, -0.03833312541246414, -0.027184033766388893] ...\n",
            "{'clause': 'THIS AGREEMENT SHALL BE GOVERNED BY THE LAWS OF THE STATE OF NEW YORK.', 'category': 'Governing Laws'}\n",
            "0.14608228206634521\n",
            "1536\n",
            "[0.0015277097700163722, -0.00395712535828352, 0.01654208078980446, -0.0295551847666502, -0.023094041272997856] ...\n"
          ]
        }
      ]
    },
    {
      "cell_type": "code",
      "source": [
        "query_vector = [\"This Amendment shall be effective December 8, 2015. Except as hereby amended, the Plan shall remain in full force and effect.\"]\n",
        "\n",
        "response = clauses.query.near_text(\n",
        "  query = query_vector, # your query vector goes here\n",
        "  limit=2,\n",
        "  return_metadata=wvc.query.MetadataQuery(distance=True),\n",
        "  include_vector=True\n",
        ")\n",
        "\n",
        "for o in response.objects:\n",
        "  print(o.properties)\n",
        "  print(o.metadata.distance)\n",
        "  print(len(o.vector['default']))\n",
        "  print(o.vector['default'][0:5],\"...\")"
      ],
      "metadata": {
        "colab": {
          "base_uri": "https://localhost:8080/"
        },
        "id": "etQFQ4qO1SUh",
        "outputId": "7135bf90-3678-43a3-f0e6-0b89bd5af577"
      },
      "execution_count": 107,
      "outputs": [
        {
          "output_type": "stream",
          "name": "stdout",
          "text": [
            "{'clause': 'The Plan shall be effective as of May 16, 2016 (the “ Effective Date ”).', 'category': 'Effectiveness'}\n",
            "0.11868143081665039\n",
            "1536\n",
            "[-0.035327132791280746, -0.01545395702123642, -0.024319017305970192, -0.024012867361307144, -0.007693700958043337] ...\n",
            "{'clause': 'This Amendment Number Six shall become effective as of June 26, 2015.', 'category': 'Effective Dates'}\n",
            "0.12051248550415039\n",
            "1536\n",
            "[-0.03562600910663605, -0.00480938283726573, -0.009920354932546616, -0.01681198552250862, -0.020046046003699303] ...\n"
          ]
        }
      ]
    },
    {
      "cell_type": "markdown",
      "source": [
        "# Generative search (single prompt)- Also called Retrieval Augmented Generation (RAG)\n",
        "\n",
        "1. Uses a multi-stage process.\n",
        "2. **First Weaviate performs a query, then it passes the retrieved results and a prompt to a large language model (LLM), to generate a new output.**\n",
        "3. Use search results as a prompt for an LLM.\n",
        "4. Prompts a large language model (LLM) with a combination of a user query as well as data retrieved from a database.\n",
        "5. LLM uses query results to perform a task that is based on our prompt\n"
      ],
      "metadata": {
        "id": "g2TYFvV0cdXi"
      }
    },
    {
      "cell_type": "markdown",
      "source": [
        "*   \"X-OpenAI-Api-Key\": \"YOUR-OPENAI-API-KEY\"\n",
        "*   generative-openai module will perform retrieval augmented generation, or RAG, based on the data stored in your Weaviate instance.\n",
        "\n"
      ],
      "metadata": {
        "id": "7kUO7MTih9FS"
      }
    },
    {
      "cell_type": "code",
      "source": [
        "query_vector = [\"applicable law\"]\n",
        "\n",
        "prompt = \"Find similar clauses to this: {clause} and extract name of a State from the response and output State found None if no state found\"\n",
        "\n",
        "response = clauses.generate.near_text(\n",
        "  query = query_vector, # your query vector goes here\n",
        "  limit=5,\n",
        "  return_metadata=wvc.query.MetadataQuery(distance=True),\n",
        "  # include_vector=True, # retrieve the object vector also e.g. [-0.013081819750368595, -0.006620033644139767,...]\n",
        "  single_prompt=prompt,\n",
        "  target_vector=\"clause\",\n",
        ")"
      ],
      "metadata": {
        "id": "c3_-T-ABrzKm"
      },
      "execution_count": 34,
      "outputs": []
    },
    {
      "cell_type": "code",
      "source": [
        "for o in response.objects:\n",
        "  #print(o.properties)\n",
        "  print(o.metadata.distance)\n",
        "  print(o.metadata.explain_score)\n",
        "  print(o.generated)\n",
        "  print(o.vector)\n",
        "  print(\"\\n\")"
      ],
      "metadata": {
        "colab": {
          "base_uri": "https://localhost:8080/"
        },
        "id": "tEaMClNUd1DJ",
        "outputId": "bac16062-6e2b-4dba-8e41-dbcdd45c0f7c"
      },
      "execution_count": 35,
      "outputs": [
        {
          "output_type": "stream",
          "name": "stdout",
          "text": [
            "0.13241612911224365\n",
            "None\n",
            "The laws of the jurisdiction in which the Property is situated shall govern this Lease.\n",
            "\n",
            "State found: None\n",
            "{}\n",
            "\n",
            "\n",
            "0.13544130325317383\n",
            "None\n",
            "This Agreement shall be governed by the laws of California.\n",
            "\n",
            "State found: California\n",
            "{}\n",
            "\n",
            "\n",
            "0.13693416118621826\n",
            "None\n",
            "For purposes of this Section 4.02 , the term “applicable Law” or “applicable Laws” includes GDPR.\n",
            "\n",
            "State found: None\n",
            "{}\n",
            "\n",
            "\n",
            "0.13982510566711426\n",
            "None\n",
            "This Contract shall be interpreted and enforced in accordance with the laws of the State of California.\n",
            "\n",
            "State found: Florida\n",
            "{}\n",
            "\n",
            "\n",
            "0.13990384340286255\n",
            "None\n",
            "The Agreement and any disputes arising therefrom shall be governed by the laws of the State of New York.\n",
            "\n",
            "State found: New York\n",
            "{}\n",
            "\n",
            "\n"
          ]
        }
      ]
    },
    {
      "cell_type": "markdown",
      "source": [
        "# Keyword search\n",
        "Keyword search, also called \"BM25 (Best match 25)\" or \"sparse vector\"  returns objects that have the highest BM25F scores."
      ],
      "metadata": {
        "id": "hNgBkr2Lrhas"
      }
    },
    {
      "cell_type": "code",
      "source": [
        "response = clauses.query.bm25(\n",
        "    query=\"annualized\",\n",
        "    # Search on selected properties only and you can weight how much each property affects the overall BM25F score\n",
        "    # This example boosts the clause property by a factor of 2 while the category property remains static.\n",
        "    query_properties=[\"clause^2\", \"category\"],\n",
        "    limit=5,                                                          # Top n results\n",
        "    return_metadata=wvc.query.MetadataQuery(distance=True,)            # OPTIONAL\n",
        ")"
      ],
      "metadata": {
        "id": "PLc9mMYXfTuJ"
      },
      "execution_count": 8,
      "outputs": []
    },
    {
      "cell_type": "code",
      "source": [
        "for o in response.objects:\n",
        "  print(o.properties)\n",
        "  print(o.metadata.distance)"
      ],
      "metadata": {
        "colab": {
          "base_uri": "https://localhost:8080/"
        },
        "id": "10k-Ai3lfTxM",
        "outputId": "01e64b06-c497-49a2-ffc6-18e6cfc9daa5"
      },
      "execution_count": 9,
      "outputs": [
        {
          "output_type": "stream",
          "name": "stdout",
          "text": [
            "{'clause': 'Your base salary will be: $27,884,62 biweekly ($725,000 annualized).', 'category': 'Base Salary'}\n",
            "None\n",
            "{'clause': 'Your starting base annualized salary will be $400,000, paid on a bi-weekly basis.', 'category': 'Base Salary'}\n",
            "None\n"
          ]
        }
      ]
    },
    {
      "cell_type": "code",
      "source": [],
      "metadata": {
        "id": "GMjMEpAC4Ma8"
      },
      "execution_count": null,
      "outputs": []
    },
    {
      "cell_type": "markdown",
      "source": [
        "# Hybrid search\n",
        "\n",
        "1.   Combines results of a vector search and a keyword (BM25F) search\n",
        "2.   \n",
        "\n"
      ],
      "metadata": {
        "id": "rBglFMeBGeZe"
      }
    },
    {
      "cell_type": "code",
      "source": [
        "response = clauses.query.hybrid(\n",
        "    query=\"withholdings\",\n",
        "    limit=5,\n",
        "    # Use the metadata properties to understand why an object is selected - score=True, explain_score=True\n",
        "    return_metadata=wvc.query.MetadataQuery(score=True, explain_score=True),\n",
        ")"
      ],
      "metadata": {
        "id": "Ls-0RFFuHB3q"
      },
      "execution_count": 36,
      "outputs": []
    },
    {
      "cell_type": "code",
      "source": [
        "for o in response.objects:\n",
        "  print(o.properties)\n",
        "  print(o.metadata.explain_score)"
      ],
      "metadata": {
        "colab": {
          "base_uri": "https://localhost:8080/"
        },
        "id": "8MTueBFgHPxq",
        "outputId": "3478881e-45b9-4875-b01f-33082747d100"
      },
      "execution_count": 37,
      "outputs": [
        {
          "output_type": "stream",
          "name": "stdout",
          "text": [
            "{'clause': 'Withholding of all applicable taxes are your responsibility.', 'category': 'Withholdings'}\n",
            "\n",
            "Hybrid (Result Set vector) Document 94b74e36-6934-4fc4-a0ed-ec1a84b05bce: original score 0.87360716, normalized score: 0.49988097 - \n",
            "Hybrid (Result Set keyword) Document 94b74e36-6934-4fc4-a0ed-ec1a84b05bce: original score 2.444701, normalized score: 0.5\n",
            "{'clause': 'The Company shall withhold from any payments any deductions required by law.', 'category': 'Withholdings'}\n",
            "\n",
            "Hybrid (Result Set vector) Document 0573af8e-3eed-4f03-97ed-9ee66976d0b6: original score 0.8707987, normalized score: 0.48603305 - \n",
            "Hybrid (Result Set keyword) Document 0573af8e-3eed-4f03-97ed-9ee66976d0b6: original score 2.444701, normalized score: 0.5\n",
            "{'clause': 'Payments made hereunder shall be made subject to required governmental withholdings.', 'category': 'Withholdings'}\n",
            "\n",
            "Hybrid (Result Set vector) Document 712cde82-a7a6-45c5-992c-5dad00d417ba: original score 0.8736313, normalized score: 0.5 - \n",
            "Hybrid (Result Set keyword) Document 712cde82-a7a6-45c5-992c-5dad00d417ba: original score 1.8809931, normalized score: 0.28609377\n",
            "{'clause': 'Payment of Dividend Equivalents is subject to required tax withholding.', 'category': 'Tax Withholdings'}\n",
            "\n",
            "Hybrid (Result Set vector) Document d986f66e-e3a4-42d0-b43b-2944965d3cb8: original score 0.841061, normalized score: 0.33940214 - \n",
            "Hybrid (Result Set keyword) Document d986f66e-e3a4-42d0-b43b-2944965d3cb8: original score 2.2429848, normalized score: 0.4234562\n",
            "{'clause': 'The payments under this Agreement shall be subject to applicable tax withholding.', 'category': 'Tax Withholdings'}\n",
            "\n",
            "Hybrid (Result Set vector) Document 8f4f7f22-ae92-4e52-80e4-cf711d4e944b: original score 0.8362848, normalized score: 0.31585175 - \n",
            "Hybrid (Result Set keyword) Document 8f4f7f22-ae92-4e52-80e4-cf711d4e944b: original score 2.2429848, normalized score: 0.4234562\n"
          ]
        }
      ]
    },
    {
      "cell_type": "markdown",
      "source": [
        "# Balance keyword and vector search\n",
        "\n",
        "1.   An alpha of 1 is a pure vector search.\n",
        "2.   An alpha of 0 is a pure keyword search.\n"
      ],
      "metadata": {
        "id": "OrKvwHIpgoho"
      }
    },
    {
      "cell_type": "code",
      "source": [
        "response = clauses.query.hybrid(\n",
        "    query=\"withholdings\",\n",
        "    limit=5,\n",
        "    alpha=0.25\n",
        ")"
      ],
      "metadata": {
        "id": "cwOkLzBvHQ18"
      },
      "execution_count": 38,
      "outputs": []
    },
    {
      "cell_type": "code",
      "source": [
        "for o in response.objects:\n",
        "  print(o.properties)"
      ],
      "metadata": {
        "colab": {
          "base_uri": "https://localhost:8080/"
        },
        "id": "Zj_gZu4ig-Fo",
        "outputId": "076576fc-117d-4adf-f17f-e6aa43d0dd55"
      },
      "execution_count": 40,
      "outputs": [
        {
          "output_type": "stream",
          "name": "stdout",
          "text": [
            "{'clause': 'Withholding of all applicable taxes are your responsibility.', 'category': 'Withholdings'}\n",
            "{'clause': 'The Company shall withhold from any payments any deductions required by law.', 'category': 'Withholdings'}\n",
            "{'clause': 'Payment of Dividend Equivalents is subject to required tax withholding.', 'category': 'Tax Withholdings'}\n",
            "{'clause': 'The payments under this Agreement shall be subject to applicable tax withholding.', 'category': 'Tax Withholdings'}\n",
            "{'clause': 'This Award will be subject to all applicable taxes as provided in Section 14(d) of the Plan.', 'category': 'Tax Withholdings'}\n"
          ]
        }
      ]
    },
    {
      "cell_type": "code",
      "source": [],
      "metadata": {
        "id": "_soD8gJWhBAX"
      },
      "execution_count": null,
      "outputs": []
    }
  ]
}
